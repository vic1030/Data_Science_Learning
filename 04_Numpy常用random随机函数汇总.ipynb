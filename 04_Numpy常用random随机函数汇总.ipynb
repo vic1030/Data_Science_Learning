{
  "cells": [
    {
      "cell_type": "markdown",
      "metadata": {
        "id": "view-in-github",
        "colab_type": "text"
      },
      "source": [
        "<a href=\"https://colab.research.google.com/github/vic1030/Data_Science_Learning/blob/main/04_Numpy%E5%B8%B8%E7%94%A8random%E9%9A%8F%E6%9C%BA%E5%87%BD%E6%95%B0%E6%B1%87%E6%80%BB.ipynb\" target=\"_parent\"><img src=\"https://colab.research.google.com/assets/colab-badge.svg\" alt=\"Open In Colab\"/></a>"
      ]
    },
    {
      "cell_type": "markdown",
      "metadata": {
        "id": "-l7hfbPdqKlB"
      },
      "source": [
        "##  Numpy常用random随机函数汇总"
      ]
    },
    {
      "cell_type": "code",
      "source": [],
      "metadata": {
        "id": "9KLqzBE_rIif"
      },
      "execution_count": null,
      "outputs": []
    },
    {
      "cell_type": "markdown",
      "metadata": {
        "id": "gR8RiYUZqKlC"
      },
      "source": [
        "官方文档地址：https://docs.scipy.org/doc/numpy-1.14.0/reference/routines.random.html\n"
      ]
    },
    {
      "cell_type": "markdown",
      "metadata": {
        "id": "VgoXU4wbqKlD"
      },
      "source": [
        "<img src=\"./other_files/numpy_random_functions.png\" width=\"80%\" style=\"margin-left:0px\"/>"
      ]
    },
    {
      "cell_type": "code",
      "execution_count": 1,
      "metadata": {
        "id": "AMamC-TAqKlD"
      },
      "outputs": [],
      "source": [
        "import numpy as np\n",
        "np.random.seed(666)"
      ]
    },
    {
      "cell_type": "markdown",
      "metadata": {
        "id": "811LkKcdqKlD"
      },
      "source": [
        "### 1. rand(d0, d1, ..., dn)\n",
        "\n",
        "返回数据在[0, 1)之间，具有均匀分布"
      ]
    },
    {
      "cell_type": "code",
      "execution_count": 2,
      "metadata": {
        "colab": {
          "base_uri": "https://localhost:8080/"
        },
        "id": "dWE-ztNEqKlD",
        "outputId": "73763be9-0dad-4185-e67a-d808344852d5"
      },
      "outputs": [
        {
          "output_type": "execute_result",
          "data": {
            "text/plain": [
              "array([0.70043712, 0.84418664, 0.67651434, 0.72785806, 0.95145796])"
            ]
          },
          "metadata": {},
          "execution_count": 2
        }
      ],
      "source": [
        "np.random.rand(5) #从[0,1)中随机抽取样本"
      ]
    },
    {
      "cell_type": "code",
      "execution_count": 3,
      "metadata": {
        "colab": {
          "base_uri": "https://localhost:8080/"
        },
        "id": "SuSapVKoqKlE",
        "outputId": "32abea87-d35c-4942-f278-9a0336ddb60c"
      },
      "outputs": [
        {
          "output_type": "execute_result",
          "data": {
            "text/plain": [
              "array([[0.0127032 , 0.4135877 , 0.04881279, 0.09992856],\n",
              "       [0.50806631, 0.20024754, 0.74415417, 0.192892  ],\n",
              "       [0.70084475, 0.29322811, 0.77447945, 0.00510884]])"
            ]
          },
          "metadata": {},
          "execution_count": 3
        }
      ],
      "source": [
        "np.random.rand(3, 4)"
      ]
    },
    {
      "cell_type": "code",
      "execution_count": 4,
      "metadata": {
        "colab": {
          "base_uri": "https://localhost:8080/"
        },
        "id": "CsMA3GJrqKlE",
        "outputId": "a28ea9a9-01cf-448d-d1b4-e23086180706"
      },
      "outputs": [
        {
          "output_type": "execute_result",
          "data": {
            "text/plain": [
              "array([[[0.11285765, 0.11095367, 0.24766823, 0.0232363 ],\n",
              "        [0.72732115, 0.34003494, 0.19750316, 0.90917959],\n",
              "        [0.97834699, 0.53280254, 0.25913185, 0.58381262]],\n",
              "\n",
              "       [[0.32569065, 0.88889931, 0.62640453, 0.81887369],\n",
              "        [0.54734542, 0.41671201, 0.74304719, 0.36959638],\n",
              "        [0.07516654, 0.77519298, 0.21940924, 0.07934213]]])"
            ]
          },
          "metadata": {},
          "execution_count": 4
        }
      ],
      "source": [
        "np.random.rand(2, 3, 4)"
      ]
    },
    {
      "cell_type": "markdown",
      "metadata": {
        "id": "2aZ-HgYJqKlE"
      },
      "source": [
        "### 2. randn(d0, d1, ..., dn)\n",
        "返回数据具有标准正态分布（均值0，方差1）"
      ]
    },
    {
      "cell_type": "code",
      "execution_count": 2,
      "metadata": {
        "colab": {
          "base_uri": "https://localhost:8080/"
        },
        "id": "M0vuYAzIqKlE",
        "outputId": "1577cc76-2707-4f3b-c4be-af6e13e2ce95"
      },
      "outputs": [
        {
          "output_type": "execute_result",
          "data": {
            "text/plain": [
              "array([ 0.82418808,  0.479966  ,  1.17346801,  0.90904807, -0.57172145])"
            ]
          },
          "metadata": {},
          "execution_count": 2
        }
      ],
      "source": [
        "np.random.randn(5)"
      ]
    },
    {
      "cell_type": "code",
      "execution_count": 3,
      "metadata": {
        "colab": {
          "base_uri": "https://localhost:8080/"
        },
        "id": "aQ2st5l0qKlE",
        "outputId": "f35b3356-3f71-4985-fef0-29eb5997aefd"
      },
      "outputs": [
        {
          "output_type": "execute_result",
          "data": {
            "text/plain": [
              "array([[-0.10949727,  0.01902826, -0.94376106,  0.64057315],\n",
              "       [-0.78644317,  0.60886999, -0.93101185,  0.97822225],\n",
              "       [-0.73691806, -0.29873262, -0.46058737, -1.08879299]])"
            ]
          },
          "metadata": {},
          "execution_count": 3
        }
      ],
      "source": [
        "np.random.randn(3, 4)"
      ]
    },
    {
      "cell_type": "code",
      "execution_count": 4,
      "metadata": {
        "colab": {
          "base_uri": "https://localhost:8080/"
        },
        "id": "RRVJesARqKlE",
        "outputId": "c58ddf75-1359-43fd-dc05-757638c3b729"
      },
      "outputs": [
        {
          "output_type": "execute_result",
          "data": {
            "text/plain": [
              "array([[[-0.57577075, -1.68290077,  0.22918525, -1.75662522],\n",
              "        [ 0.84463262,  0.27721986,  0.85290153,  0.1945996 ],\n",
              "        [ 1.31063772,  1.5438436 , -0.52904802, -0.6564723 ]],\n",
              "\n",
              "       [[-0.2015057 , -0.70061583,  0.68713795, -0.02607576],\n",
              "        [-0.82975832,  0.29655378, -0.3126795 , -0.61130127],\n",
              "        [-0.8217515 ,  0.8971227 ,  0.13607861, -0.2586548 ]]])"
            ]
          },
          "metadata": {},
          "execution_count": 4
        }
      ],
      "source": [
        "np.random.randn(2, 3, 4)"
      ]
    },
    {
      "cell_type": "markdown",
      "metadata": {
        "id": "cnMd3Mu5qKlF"
      },
      "source": [
        "### 3. randint(low[, high, size, dtype])\n",
        "\n",
        "生成随机整数，包含low，不包含high  \n",
        "如果high不指定，则从[0, low)中生成数字"
      ]
    },
    {
      "cell_type": "code",
      "execution_count": 13,
      "metadata": {
        "colab": {
          "base_uri": "https://localhost:8080/"
        },
        "id": "BPat9pp1qKlF",
        "outputId": "a19e7a0a-9814-4637-c746-fa9050bd41aa"
      },
      "outputs": [
        {
          "output_type": "execute_result",
          "data": {
            "text/plain": [
              "1"
            ]
          },
          "metadata": {},
          "execution_count": 13
        }
      ],
      "source": [
        "np.random.randint(3) #不指定high，会生成[0, low)之间的数字"
      ]
    },
    {
      "cell_type": "code",
      "execution_count": 95,
      "metadata": {
        "colab": {
          "base_uri": "https://localhost:8080/"
        },
        "id": "iO2YAHG2qKlF",
        "outputId": "a1cba5b6-9e11-4c10-aa19-aad66ae1309b"
      },
      "outputs": [
        {
          "output_type": "execute_result",
          "data": {
            "text/plain": [
              "2"
            ]
          },
          "metadata": {},
          "execution_count": 95
        }
      ],
      "source": [
        "np.random.randint(1, 10)#指定high会生成[low,high)"
      ]
    },
    {
      "cell_type": "code",
      "execution_count": 96,
      "metadata": {
        "colab": {
          "base_uri": "https://localhost:8080/"
        },
        "id": "qk8LkT8SqKlF",
        "outputId": "78369be1-88f0-41b8-9d2c-d2dbad832d2f"
      },
      "outputs": [
        {
          "output_type": "execute_result",
          "data": {
            "text/plain": [
              "array([16, 24, 16, 19, 21])"
            ]
          },
          "metadata": {},
          "execution_count": 96
        }
      ],
      "source": [
        "np.random.randint(10, 30, size=(5,)) #会生成5位样本，一维数组[10-30)之间的数"
      ]
    },
    {
      "cell_type": "code",
      "execution_count": 97,
      "metadata": {
        "colab": {
          "base_uri": "https://localhost:8080/"
        },
        "id": "Y0JoRLZJqKlF",
        "outputId": "6203d010-adff-4b36-86f6-4800701cb8e4"
      },
      "outputs": [
        {
          "output_type": "execute_result",
          "data": {
            "text/plain": [
              "array([[[20, 19, 14, 22],\n",
              "        [26, 29, 20, 26],\n",
              "        [29, 20, 18, 11]],\n",
              "\n",
              "       [[15, 14, 19, 14],\n",
              "        [18, 15, 14, 25],\n",
              "        [28, 19, 27, 13]]])"
            ]
          },
          "metadata": {},
          "execution_count": 97
        }
      ],
      "source": [
        "np.random.randint(10, 30, size=(2,3,4))"
      ]
    },
    {
      "cell_type": "markdown",
      "metadata": {
        "id": "PTQS0XlhqKlF"
      },
      "source": [
        "### 4. random([size])\n",
        "生成[0.0, 1.0)的随机数"
      ]
    },
    {
      "cell_type": "code",
      "execution_count": 98,
      "metadata": {
        "colab": {
          "base_uri": "https://localhost:8080/"
        },
        "id": "YZaqtUcbqKlF",
        "outputId": "625d86a5-babf-4962-955a-ecef837d5d79"
      },
      "outputs": [
        {
          "output_type": "execute_result",
          "data": {
            "text/plain": [
              "array([0.43875185, 0.26235889, 0.23652188, 0.83900208, 0.36874334])"
            ]
          },
          "metadata": {},
          "execution_count": 98
        }
      ],
      "source": [
        "np.random.random(5)"
      ]
    },
    {
      "cell_type": "code",
      "execution_count": 99,
      "metadata": {
        "colab": {
          "base_uri": "https://localhost:8080/"
        },
        "id": "gqw1McdZqKlF",
        "outputId": "55d2bb69-cd78-4e43-e134-5e5560c9822b"
      },
      "outputs": [
        {
          "output_type": "execute_result",
          "data": {
            "text/plain": [
              "array([[0.61918838, 0.46656433, 0.49250063, 0.71862211],\n",
              "       [0.65415881, 0.9665017 , 0.38957233, 0.97017219],\n",
              "       [0.36057961, 0.56184234, 0.03133558, 0.30480028]])"
            ]
          },
          "metadata": {},
          "execution_count": 99
        }
      ],
      "source": [
        "np.random.random(size=(3,4))"
      ]
    },
    {
      "cell_type": "code",
      "execution_count": 100,
      "metadata": {
        "colab": {
          "base_uri": "https://localhost:8080/"
        },
        "id": "ziHMrWddqKlF",
        "outputId": "500c116c-84ae-4869-f3f9-444be018a4f4"
      },
      "outputs": [
        {
          "output_type": "execute_result",
          "data": {
            "text/plain": [
              "array([[[0.07269465, 0.46721993, 0.41345069, 0.42228271],\n",
              "        [0.79491031, 0.05651855, 0.89718201, 0.31869638],\n",
              "        [0.36398678, 0.70548804, 0.23103497, 0.54827043]],\n",
              "\n",
              "       [[0.3195602 , 0.7302113 , 0.94257233, 0.77442252],\n",
              "        [0.86379077, 0.82903615, 0.81379647, 0.63166234],\n",
              "        [0.68810426, 0.09505542, 0.87637271, 0.83280508]]])"
            ]
          },
          "metadata": {},
          "execution_count": 100
        }
      ],
      "source": [
        "np.random.random(size=(2,3,4))"
      ]
    },
    {
      "cell_type": "markdown",
      "metadata": {
        "id": "DBm5DSORqKlG"
      },
      "source": [
        "### 5. choice(a[, size, replace, p])\n",
        "a是一维数组，从它里面生成随机结果\n"
      ]
    },
    {
      "cell_type": "code",
      "execution_count": 112,
      "metadata": {
        "colab": {
          "base_uri": "https://localhost:8080/"
        },
        "id": "cSDXSlmAqKlG",
        "outputId": "ec5f11e4-ac6d-4898-b9a0-55b6a475fa6d"
      },
      "outputs": [
        {
          "output_type": "execute_result",
          "data": {
            "text/plain": [
              "array([0, 4, 2])"
            ]
          },
          "metadata": {},
          "execution_count": 112
        }
      ],
      "source": [
        "# 这时候，a是数字，则从range(5)中生成，size为3\n",
        "np.random.choice(5, 3) #range5不包含5"
      ]
    },
    {
      "cell_type": "code",
      "execution_count": 115,
      "metadata": {
        "colab": {
          "base_uri": "https://localhost:8080/"
        },
        "id": "oQ-AhVYDqKlG",
        "outputId": "95fd0958-2ae0-4a7c-dcdf-69f4ea1597d9"
      },
      "outputs": [
        {
          "output_type": "execute_result",
          "data": {
            "text/plain": [
              "array([[3, 2, 1],\n",
              "       [0, 4, 4]])"
            ]
          },
          "metadata": {},
          "execution_count": 115
        }
      ],
      "source": [
        "np.random.choice(5, (2,3)) #(2,3)是二行三列"
      ]
    },
    {
      "cell_type": "code",
      "execution_count": 122,
      "metadata": {
        "colab": {
          "base_uri": "https://localhost:8080/"
        },
        "id": "CgKSDsqfqKlG",
        "outputId": "bd8351c4-ef86-44f9-95ca-d067e32bb5f7"
      },
      "outputs": [
        {
          "output_type": "execute_result",
          "data": {
            "text/plain": [
              "array([2, 9, 9])"
            ]
          },
          "metadata": {},
          "execution_count": 122
        }
      ],
      "source": [
        "# 这时候，a是数组，从里面随机取出数字\n",
        "np.random.choice([2, 3, 6, 7, 9], 3) #size= 3"
      ]
    },
    {
      "cell_type": "code",
      "execution_count": 123,
      "metadata": {
        "colab": {
          "base_uri": "https://localhost:8080/"
        },
        "id": "cLaF-CULqKlG",
        "outputId": "f56f94c7-bfdf-4695-e96f-e944d3559c43"
      },
      "outputs": [
        {
          "output_type": "execute_result",
          "data": {
            "text/plain": [
              "array([[9, 6, 9],\n",
              "       [7, 2, 9]])"
            ]
          },
          "metadata": {},
          "execution_count": 123
        }
      ],
      "source": [
        "np.random.choice([2, 3, 6, 7, 9], (2,3))"
      ]
    },
    {
      "cell_type": "markdown",
      "metadata": {
        "id": "m4zgQgxSqKlG"
      },
      "source": [
        "### 6. shuffle(x)\n",
        "把一个数组x进行随机排列"
      ]
    },
    {
      "cell_type": "code",
      "execution_count": 128,
      "metadata": {
        "colab": {
          "base_uri": "https://localhost:8080/"
        },
        "id": "G9WLmkteqKlG",
        "outputId": "7d5eab4f-6e81-4b26-9f08-ef9c40acb398"
      },
      "outputs": [
        {
          "output_type": "execute_result",
          "data": {
            "text/plain": [
              "array([2, 4, 7, 5, 3, 6, 1, 0, 9, 8])"
            ]
          },
          "metadata": {},
          "execution_count": 128
        }
      ],
      "source": [
        "a = np.arange(10)\n",
        "np.random.shuffle(a)\n",
        "a"
      ]
    },
    {
      "cell_type": "code",
      "execution_count": 129,
      "metadata": {
        "colab": {
          "base_uri": "https://localhost:8080/"
        },
        "id": "y8oeG_BHqKlG",
        "outputId": "b05af483-7620-489f-957b-11ac647778d9"
      },
      "outputs": [
        {
          "output_type": "execute_result",
          "data": {
            "text/plain": [
              "array([[ 0,  1,  2,  3,  4],\n",
              "       [ 5,  6,  7,  8,  9],\n",
              "       [10, 11, 12, 13, 14],\n",
              "       [15, 16, 17, 18, 19]])"
            ]
          },
          "metadata": {},
          "execution_count": 129
        }
      ],
      "source": [
        "a = np.arange(20).reshape(4,5)\n",
        "a"
      ]
    },
    {
      "cell_type": "code",
      "execution_count": 132,
      "metadata": {
        "colab": {
          "base_uri": "https://localhost:8080/"
        },
        "id": "TkkHzbIaqKlG",
        "outputId": "f7bc5436-87ef-4f0a-f52a-5256df05c273"
      },
      "outputs": [
        {
          "output_type": "execute_result",
          "data": {
            "text/plain": [
              "array([[10, 11, 12, 13, 14],\n",
              "       [ 5,  6,  7,  8,  9],\n",
              "       [15, 16, 17, 18, 19],\n",
              "       [ 0,  1,  2,  3,  4]])"
            ]
          },
          "metadata": {},
          "execution_count": 132
        }
      ],
      "source": [
        "# 如果数组是多维的，则只会在第一维度打散数据.例如此例，只会打散每一行的位置，列不会变\n",
        "np.random.shuffle(a)\n",
        "a"
      ]
    },
    {
      "cell_type": "markdown",
      "metadata": {
        "id": "sHeEIOi4qKlG"
      },
      "source": [
        "### 7. permutation(x)\n",
        "把一个数组x进行随机排列，或者数字的全排列\n",
        "作用跟shuffle差不多，只是他可以不更改原数据而制作一份打散后的copy"
      ]
    },
    {
      "cell_type": "code",
      "execution_count": 134,
      "metadata": {
        "colab": {
          "base_uri": "https://localhost:8080/"
        },
        "id": "il5kxU9rqKlG",
        "outputId": "a99c8899-dfc4-4962-cf2d-522aa190b154"
      },
      "outputs": [
        {
          "output_type": "execute_result",
          "data": {
            "text/plain": [
              "array([2, 1, 3, 0, 9, 6, 5, 8, 7, 4])"
            ]
          },
          "metadata": {},
          "execution_count": 134
        }
      ],
      "source": [
        "# 这时候，生成range(10)的随机排列\n",
        "np.random.permutation(10)"
      ]
    },
    {
      "cell_type": "code",
      "execution_count": 137,
      "metadata": {
        "colab": {
          "base_uri": "https://localhost:8080/"
        },
        "id": "B05LsGJBqKlG",
        "outputId": "5790283e-c9e1-4bdd-ef92-a58ce59e38a1"
      },
      "outputs": [
        {
          "output_type": "execute_result",
          "data": {
            "text/plain": [
              "array([[0, 1, 2],\n",
              "       [3, 4, 5],\n",
              "       [6, 7, 8]])"
            ]
          },
          "metadata": {},
          "execution_count": 137
        }
      ],
      "source": [
        "# 这时候，在第一维度进行打散\n",
        "arr = np.arange(9).reshape((3, 3))\n",
        "arr"
      ]
    },
    {
      "cell_type": "code",
      "execution_count": 138,
      "metadata": {
        "colab": {
          "base_uri": "https://localhost:8080/"
        },
        "id": "WXImF8z7qKlG",
        "outputId": "5c624428-f801-43a9-9bf8-67384748bc80"
      },
      "outputs": [
        {
          "output_type": "execute_result",
          "data": {
            "text/plain": [
              "array([[6, 7, 8],\n",
              "       [3, 4, 5],\n",
              "       [0, 1, 2]])"
            ]
          },
          "metadata": {},
          "execution_count": 138
        }
      ],
      "source": [
        "# 注意，这里不会更改原来的arr，会返回一个新的copy\n",
        "np.random.permutation(arr)"
      ]
    },
    {
      "cell_type": "code",
      "execution_count": 139,
      "metadata": {
        "colab": {
          "base_uri": "https://localhost:8080/"
        },
        "id": "Mmam6WHdqKlG",
        "outputId": "2252c4f1-942a-4d7f-c4ef-888e3b70aa16"
      },
      "outputs": [
        {
          "output_type": "execute_result",
          "data": {
            "text/plain": [
              "array([[0, 1, 2],\n",
              "       [3, 4, 5],\n",
              "       [6, 7, 8]])"
            ]
          },
          "metadata": {},
          "execution_count": 139
        }
      ],
      "source": [
        "arr"
      ]
    },
    {
      "cell_type": "markdown",
      "metadata": {
        "id": "e4Y2DDWmqKlH"
      },
      "source": [
        "### 8. normal([loc, scale, size])\n",
        "按照平均值loc和方差scale生成高斯分布(正态分布）的数字\n",
        "\n",
        "loc: 分布的中心值，float或float数组<br>\n",
        "scale: 分布的标准偏差，必须大于0<br>\n",
        "size: 数组大小或形状，int或元组"
      ]
    },
    {
      "cell_type": "code",
      "execution_count": 140,
      "metadata": {
        "colab": {
          "base_uri": "https://localhost:8080/"
        },
        "id": "VAmv18A2qKlH",
        "outputId": "5744bcc2-4789-4024-99a2-9305097cfeab"
      },
      "outputs": [
        {
          "output_type": "execute_result",
          "data": {
            "text/plain": [
              "array([ 12.10765641,   8.64650901,  -4.66591134,  -0.75433287,\n",
              "         4.31106732,   5.53346363, -13.91046116,   5.80306744,\n",
              "        -4.35289341,  15.99496004])"
            ]
          },
          "metadata": {},
          "execution_count": 140
        }
      ],
      "source": [
        "np.random.normal(1, 10, 10)"
      ]
    },
    {
      "cell_type": "code",
      "execution_count": 141,
      "metadata": {
        "colab": {
          "base_uri": "https://localhost:8080/"
        },
        "id": "FEOG9BCRqKlH",
        "outputId": "e42480e5-279c-4d87-b293-ae35d2ddc8c5"
      },
      "outputs": [
        {
          "output_type": "execute_result",
          "data": {
            "text/plain": [
              "array([[  3.33586649,   4.62280624,   8.97679191,   2.95283837],\n",
              "       [ 16.01376132, -16.78812798, -10.38835696,  13.52800099],\n",
              "       [ -7.75302226,   0.16965322,  -5.35573857,  -9.63735295]])"
            ]
          },
          "metadata": {},
          "execution_count": 141
        }
      ],
      "source": [
        "np.random.normal(1, 10, (3,4))"
      ]
    },
    {
      "cell_type": "markdown",
      "metadata": {
        "id": "3mx2VbaWqKlH"
      },
      "source": [
        "### 9. uniform([low, high, size])\n",
        "在[low, high)之间生成均匀分布的数字"
      ]
    },
    {
      "cell_type": "code",
      "execution_count": null,
      "metadata": {
        "id": "SRYU2qmKqKlH",
        "outputId": "ab9aa8b3-667a-449d-b2af-eda110c721f5"
      },
      "outputs": [
        {
          "data": {
            "text/plain": [
              "array([2.64932089, 4.78167451, 7.11195067, 3.90634783, 8.86690648,\n",
              "       8.48692156, 1.73313319, 6.41664569, 8.79063733, 7.4360877 ])"
            ]
          },
          "execution_count": 28,
          "metadata": {},
          "output_type": "execute_result"
        }
      ],
      "source": [
        "np.random.uniform(1, 10, 10)"
      ]
    },
    {
      "cell_type": "code",
      "execution_count": null,
      "metadata": {
        "id": "YUKsCV1tqKlH",
        "outputId": "4454253b-0f06-425d-f8d3-37ca1cc88f54"
      },
      "outputs": [
        {
          "data": {
            "text/plain": [
              "array([[1.8056582 , 9.60886484, 1.08734758, 8.40955337],\n",
              "       [5.67535321, 2.0603951 , 5.7577428 , 7.03324951],\n",
              "       [3.101973  , 6.9400552 , 2.04862106, 4.44717637]])"
            ]
          },
          "execution_count": 29,
          "metadata": {},
          "output_type": "execute_result"
        }
      ],
      "source": [
        "np.random.uniform(1, 10, (3,4))"
      ]
    },
    {
      "cell_type": "markdown",
      "metadata": {
        "id": "NgoQJv_eqKlH"
      },
      "source": [
        "### 实例：对数组加入随机噪声"
      ]
    },
    {
      "cell_type": "code",
      "execution_count": 143,
      "metadata": {
        "id": "ZniQT9I2qKlH"
      },
      "outputs": [],
      "source": [
        "import matplotlib.pyplot as plt"
      ]
    },
    {
      "cell_type": "code",
      "execution_count": 144,
      "metadata": {
        "colab": {
          "base_uri": "https://localhost:8080/",
          "height": 430
        },
        "id": "-KO039yiqKlH",
        "outputId": "e3b46ef8-e03f-4ccc-ccd8-93bd1118e0eb"
      },
      "outputs": [
        {
          "output_type": "display_data",
          "data": {
            "text/plain": [
              "<Figure size 640x480 with 1 Axes>"
            ],
            "image/png": "[encoded data removed]"
          },
          "metadata": {}
        }
      ],
      "source": [
        "# 绘制sin曲线\n",
        "x = np.linspace(-10, 10, 100) #(最小数，最大数，生成100个点)\n",
        "y = np.sin(x)\n",
        "plt.plot(x, y)\n",
        "plt.show()"
      ]
    },
    {
      "cell_type": "code",
      "execution_count": 145,
      "metadata": {
        "colab": {
          "base_uri": "https://localhost:8080/",
          "height": 430
        },
        "id": "2Fku7z0bqKlH",
        "outputId": "bdf3fe67-ed7e-4589-c5f9-a3519c109958"
      },
      "outputs": [
        {
          "output_type": "display_data",
          "data": {
            "text/plain": [
              "<Figure size 640x480 with 1 Axes>"
            ],
            "image/png": "[encoded data removed]"
          },
          "metadata": {}
        }
      ],
      "source": [
        "# 加入噪声\n",
        "x = np.linspace(-10, 10, 100)\n",
        "y = np.sin(x) + np.random.rand(len(x))\n",
        "plt.plot(x, y)\n",
        "plt.show()"
      ]
    },
    {
      "cell_type": "code",
      "execution_count": null,
      "metadata": {
        "id": "i_mQuwOhqKlH"
      },
      "outputs": [],
      "source": []
    }
  ],
  "metadata": {
    "kernelspec": {
      "display_name": "Python 3",
      "language": "python",
      "name": "python3"
    },
    "language_info": {
      "codemirror_mode": {
        "name": "ipython",
        "version": 3
      },
      "file_extension": ".py",
      "mimetype": "text/x-python",
      "name": "python",
      "nbconvert_exporter": "python",
      "pygments_lexer": "ipython3",
      "version": "3.7.6"
    },
    "colab": {
      "provenance": [],
      "include_colab_link": true
    }
  },
  "nbformat": 4,
  "nbformat_minor": 0
}