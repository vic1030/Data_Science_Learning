{
  "cells": [
    {
      "cell_type": "markdown",
      "metadata": {
        "id": "view-in-github",
        "colab_type": "text"
      },
      "source": [
        "<a href=\"https://colab.research.google.com/github/vic1030/Data_Science_Learning/blob/main/05_Numpy%E7%9A%84%E6%95%B0%E5%AD%A6%E7%BB%9F%E8%AE%A1%E5%87%BD%E6%95%B0.ipynb\" target=\"_parent\"><img src=\"https://colab.research.google.com/assets/colab-badge.svg\" alt=\"Open In Colab\"/></a>"
      ]
    },
    {
      "cell_type": "markdown",
      "metadata": {
        "id": "oKov-bxAQuGr"
      },
      "source": [
        "## Numpy的数学统计函数"
      ]
    },
    {
      "cell_type": "markdown",
      "metadata": {
        "id": "QHWf5IzOQuGs"
      },
      "source": [
        "本节内容：\n",
        "\n",
        "#### 1、Numpy有哪些数学统计函数：  \n",
        "<table style=\"margin-left:0px; text-align:left;\">\n",
        "    <tr><th>函数名</th><th>说明</th></tr>\n",
        "    <tr><td>np.sum</td><td>所有元素的和</td></tr>\n",
        "    <tr><td>np.prod</td><td>所有元素的乘积</td></tr>\n",
        "    <tr><td>np.cumsum</td><td>元素的累积加和</td></tr>\n",
        "    <tr><td>np.cumprod</td><td>元素的累积乘积</td></tr>\n",
        "    <tr><td>np.min</td><td>最小值</td></tr>\n",
        "    <tr><td>np.max</td><td>最大值</td></tr>\n",
        "    <tr><td>np.percentile</td><td>0-100百分位数</td></tr>\n",
        "    <tr><td>np.quantile</td><td>0-1分位数</td></tr>\n",
        "    <tr><td>np.median</td><td>中位数</td></tr>\n",
        "    <tr><td>np.average</td><td>加权平均，参数可以指定weights</td></tr>\n",
        "    <tr><td>np.mean</td><td>平均值</td></tr>\n",
        "    <tr><td>np.std</td><td>标准差</td></tr>\n",
        "    <tr><td>np.var</td><td>方差</td></tr>\n",
        "</table>\n",
        "\n",
        "#### 2、怎样实现按不同的axis计算\n",
        "以上函数，都有一个参数叫做axis用于指定计算轴为行还是列，如果不指定，那么会计算所有元素的结果\n",
        "\n",
        "#### 3、实例：机器学习将数据进行标准化\n",
        "A = (A - mean(A, axis=0)) / std(A, axis=0)"
      ]
    },
    {
      "cell_type": "markdown",
      "metadata": {
        "id": "iLZ98IupQuGs"
      },
      "source": [
        "### 1、Numpy的数学统计函数"
      ]
    },
    {
      "cell_type": "code",
      "execution_count": 1,
      "metadata": {
        "id": "OhpoUKPiQuGs"
      },
      "outputs": [],
      "source": [
        "import numpy as np"
      ]
    },
    {
      "cell_type": "code",
      "execution_count": 14,
      "metadata": {
        "colab": {
          "base_uri": "https://localhost:8080/"
        },
        "id": "bR7CCP70QuGt",
        "outputId": "838b7221-e266-4371-9d3d-64c53c8dd8d8"
      },
      "outputs": [
        {
          "output_type": "execute_result",
          "data": {
            "text/plain": [
              "array([[ 0,  1,  2,  3],\n",
              "       [ 4,  5,  6,  7],\n",
              "       [ 8,  9, 10, 11]])"
            ]
          },
          "metadata": {},
          "execution_count": 14
        }
      ],
      "source": [
        "arr = np.arange(0,12).reshape(3,4)\n",
        "arr"
      ]
    },
    {
      "cell_type": "code",
      "execution_count": 15,
      "metadata": {
        "colab": {
          "base_uri": "https://localhost:8080/"
        },
        "id": "GDmrPwFnQuGt",
        "outputId": "1da19f4c-c8e7-41e9-ff69-b0daa7ffc956"
      },
      "outputs": [
        {
          "output_type": "execute_result",
          "data": {
            "text/plain": [
              "66"
            ]
          },
          "metadata": {},
          "execution_count": 15
        }
      ],
      "source": [
        "np.sum(arr)"
      ]
    },
    {
      "cell_type": "code",
      "execution_count": 16,
      "metadata": {
        "colab": {
          "base_uri": "https://localhost:8080/"
        },
        "id": "EumdDk_wQuGt",
        "outputId": "be71828d-72fd-4e60-87d5-c20beb69d0db"
      },
      "outputs": [
        {
          "output_type": "execute_result",
          "data": {
            "text/plain": [
              "0"
            ]
          },
          "metadata": {},
          "execution_count": 16
        }
      ],
      "source": [
        "np.prod(arr)"
      ]
    },
    {
      "cell_type": "code",
      "execution_count": 17,
      "metadata": {
        "colab": {
          "base_uri": "https://localhost:8080/"
        },
        "id": "w2ZVHcb5QuGt",
        "outputId": "62f31bee-6219-4251-e041-c7a450af8e9f"
      },
      "outputs": [
        {
          "output_type": "execute_result",
          "data": {
            "text/plain": [
              "array([ 0,  1,  3,  6, 10, 15, 21, 28, 36, 45, 55, 66])"
            ]
          },
          "metadata": {},
          "execution_count": 17
        }
      ],
      "source": [
        "np.cumsum(arr)"
      ]
    },
    {
      "cell_type": "code",
      "execution_count": 18,
      "metadata": {
        "colab": {
          "base_uri": "https://localhost:8080/"
        },
        "id": "V8shkR41QuGu",
        "outputId": "729f4f5d-0585-4e15-e239-11d73f1a7e8a"
      },
      "outputs": [
        {
          "output_type": "execute_result",
          "data": {
            "text/plain": [
              "array([0, 0, 0, 0, 0, 0, 0, 0, 0, 0, 0, 0])"
            ]
          },
          "metadata": {},
          "execution_count": 18
        }
      ],
      "source": [
        "np.cumprod(arr)"
      ]
    },
    {
      "cell_type": "code",
      "execution_count": 19,
      "metadata": {
        "colab": {
          "base_uri": "https://localhost:8080/"
        },
        "id": "h6v4PLx4QuGu",
        "outputId": "9f4c6a65-eed7-4bfa-9a1f-b5cb54fc4bb2"
      },
      "outputs": [
        {
          "output_type": "execute_result",
          "data": {
            "text/plain": [
              "0"
            ]
          },
          "metadata": {},
          "execution_count": 19
        }
      ],
      "source": [
        "np.min(arr)"
      ]
    },
    {
      "cell_type": "code",
      "execution_count": 20,
      "metadata": {
        "colab": {
          "base_uri": "https://localhost:8080/"
        },
        "id": "eJEU7MQBQuGu",
        "outputId": "30d38dc9-2c65-4174-b2b9-97338253c857"
      },
      "outputs": [
        {
          "output_type": "execute_result",
          "data": {
            "text/plain": [
              "11"
            ]
          },
          "metadata": {},
          "execution_count": 20
        }
      ],
      "source": [
        "np.max(arr)"
      ]
    },
    {
      "cell_type": "code",
      "execution_count": 22,
      "metadata": {
        "colab": {
          "base_uri": "https://localhost:8080/"
        },
        "id": "kJUWXSroQuGu",
        "outputId": "a8cc468c-9381-45a9-83da-1ca44de306ad"
      },
      "outputs": [
        {
          "output_type": "execute_result",
          "data": {
            "text/plain": [
              "array([2.75, 5.5 , 8.25])"
            ]
          },
          "metadata": {},
          "execution_count": 22
        }
      ],
      "source": [
        "np.percentile(arr, [25, 50, 75]) #percentile:https://blog.csdn.net/kuaileky/article/details/105544050 1，（12+1)*(25/100)= 3.25 2. 去寻找排列后的对应两位数(此例:2&3) 3.2+0.25*(3-2)"
      ]
    },
    {
      "cell_type": "code",
      "execution_count": 24,
      "metadata": {
        "colab": {
          "base_uri": "https://localhost:8080/"
        },
        "id": "uYXgKyLfQuGu",
        "outputId": "ef108122-1987-4cff-eff6-3889abf65089"
      },
      "outputs": [
        {
          "output_type": "execute_result",
          "data": {
            "text/plain": [
              "array([2.75, 5.5 , 8.25])"
            ]
          },
          "metadata": {},
          "execution_count": 24
        }
      ],
      "source": [
        "np.quantile(arr, [0.25, 0.5, 0.75])"
      ]
    },
    {
      "cell_type": "code",
      "execution_count": 25,
      "metadata": {
        "colab": {
          "base_uri": "https://localhost:8080/"
        },
        "id": "vHK2Ky7DQuGu",
        "outputId": "5e2e99c8-3408-4964-c0c1-bf4e5a534107"
      },
      "outputs": [
        {
          "output_type": "execute_result",
          "data": {
            "text/plain": [
              "5.5"
            ]
          },
          "metadata": {},
          "execution_count": 25
        }
      ],
      "source": [
        "np.median(arr)"
      ]
    },
    {
      "cell_type": "code",
      "execution_count": 26,
      "metadata": {
        "colab": {
          "base_uri": "https://localhost:8080/"
        },
        "id": "x_sugnZDQuGu",
        "outputId": "34e2dbe9-d8ad-4293-df7f-49e9a44a35cb"
      },
      "outputs": [
        {
          "output_type": "execute_result",
          "data": {
            "text/plain": [
              "5.5"
            ]
          },
          "metadata": {},
          "execution_count": 26
        }
      ],
      "source": [
        "np.mean(arr)"
      ]
    },
    {
      "cell_type": "code",
      "execution_count": 27,
      "metadata": {
        "colab": {
          "base_uri": "https://localhost:8080/"
        },
        "id": "YsVHhxyAQuGu",
        "outputId": "33b89357-9f3d-4050-bc39-5d1b5e2ed8a1"
      },
      "outputs": [
        {
          "output_type": "execute_result",
          "data": {
            "text/plain": [
              "3.452052529534663"
            ]
          },
          "metadata": {},
          "execution_count": 27
        }
      ],
      "source": [
        "np.std(arr)"
      ]
    },
    {
      "cell_type": "code",
      "execution_count": 28,
      "metadata": {
        "colab": {
          "base_uri": "https://localhost:8080/"
        },
        "id": "526f2XgfQuGu",
        "outputId": "cc5f3dfa-442c-4286-be01-e2299ff23cd9"
      },
      "outputs": [
        {
          "output_type": "execute_result",
          "data": {
            "text/plain": [
              "11.916666666666666"
            ]
          },
          "metadata": {},
          "execution_count": 28
        }
      ],
      "source": [
        "np.var(arr)"
      ]
    },
    {
      "cell_type": "code",
      "execution_count": 29,
      "metadata": {
        "colab": {
          "base_uri": "https://localhost:8080/"
        },
        "id": "q98sSz7vQuGu",
        "outputId": "f5abc3dd-6ace-4e3d-969f-b254920e669b"
      },
      "outputs": [
        {
          "output_type": "execute_result",
          "data": {
            "text/plain": [
              "5.6994660778131605"
            ]
          },
          "metadata": {},
          "execution_count": 29
        }
      ],
      "source": [
        "# weights的shape需要和arr一样\n",
        "weights = np.random.rand(*arr.shape)\n",
        "np.average(arr, weights=weights)"
      ]
    },
    {
      "cell_type": "markdown",
      "metadata": {
        "id": "Nsy82obJQuGu"
      },
      "source": [
        "### 2、Numpy的axis参数的用途"
      ]
    },
    {
      "cell_type": "markdown",
      "metadata": {
        "id": "mK4pjkx3QuGu"
      },
      "source": [
        "axis=0代表行、axis=1代表列\n",
        "\n",
        "对于sum/mean/media等聚合函数：\n",
        "* 理解1：axis=0代表把行消解掉，axis=1代表把列消解掉\n",
        "* 理解2：axis=0代表跨行计算，axis=1代表跨列计算"
      ]
    },
    {
      "cell_type": "code",
      "execution_count": 30,
      "metadata": {
        "colab": {
          "base_uri": "https://localhost:8080/"
        },
        "id": "UvnHrAArQuGu",
        "outputId": "51f96e39-640b-477b-ac46-1c37dc21bbe0"
      },
      "outputs": [
        {
          "output_type": "execute_result",
          "data": {
            "text/plain": [
              "array([[ 0,  1,  2,  3],\n",
              "       [ 4,  5,  6,  7],\n",
              "       [ 8,  9, 10, 11]])"
            ]
          },
          "metadata": {},
          "execution_count": 30
        }
      ],
      "source": [
        "arr"
      ]
    },
    {
      "cell_type": "code",
      "execution_count": 31,
      "metadata": {
        "colab": {
          "base_uri": "https://localhost:8080/"
        },
        "id": "wzsizOkkQuGv",
        "outputId": "7f1ca16a-c520-416b-c98e-01d4026bf6e5"
      },
      "outputs": [
        {
          "output_type": "execute_result",
          "data": {
            "text/plain": [
              "array([12, 15, 18, 21])"
            ]
          },
          "metadata": {},
          "execution_count": 31
        }
      ],
      "source": [
        "arr.sum(axis=0) #axis=0代表把行消解掉"
      ]
    },
    {
      "cell_type": "code",
      "execution_count": 32,
      "metadata": {
        "colab": {
          "base_uri": "https://localhost:8080/"
        },
        "id": "BwopdJuOQuGv",
        "outputId": "1ef6fc75-98e0-4d1c-9a75-2c207676c4c0"
      },
      "outputs": [
        {
          "output_type": "execute_result",
          "data": {
            "text/plain": [
              "array([ 6, 22, 38])"
            ]
          },
          "metadata": {},
          "execution_count": 32
        }
      ],
      "source": [
        "arr.sum(axis=1) #axis=1代表把列消解掉"
      ]
    },
    {
      "cell_type": "code",
      "execution_count": 33,
      "metadata": {
        "colab": {
          "base_uri": "https://localhost:8080/"
        },
        "id": "okNEMAvmQuGv",
        "outputId": "9a458ed2-63c8-4bee-e1b2-6994c4ba5bbf"
      },
      "outputs": [
        {
          "output_type": "execute_result",
          "data": {
            "text/plain": [
              "array([[ 0,  1,  2,  3],\n",
              "       [ 4,  6,  8, 10],\n",
              "       [12, 15, 18, 21]])"
            ]
          },
          "metadata": {},
          "execution_count": 33
        }
      ],
      "source": [
        "arr.cumsum(axis=0)"
      ]
    },
    {
      "cell_type": "code",
      "execution_count": 34,
      "metadata": {
        "colab": {
          "base_uri": "https://localhost:8080/"
        },
        "id": "OJ7iThoDQuGv",
        "outputId": "309b5465-50c8-44b7-f0e1-5ce110d9a74d"
      },
      "outputs": [
        {
          "output_type": "execute_result",
          "data": {
            "text/plain": [
              "array([[ 0,  1,  3,  6],\n",
              "       [ 4,  9, 15, 22],\n",
              "       [ 8, 17, 27, 38]])"
            ]
          },
          "metadata": {},
          "execution_count": 34
        }
      ],
      "source": [
        "arr.cumsum(axis=1)"
      ]
    },
    {
      "cell_type": "markdown",
      "metadata": {
        "id": "fRexw0UvQuGv"
      },
      "source": [
        "### 3、实例：机器学习将数据进行标准化"
      ]
    },
    {
      "cell_type": "code",
      "execution_count": 35,
      "metadata": {
        "colab": {
          "base_uri": "https://localhost:8080/"
        },
        "id": "80WuZTXLQuGv",
        "outputId": "7e86a4f8-b840-453a-eaf0-c795edcbc596"
      },
      "outputs": [
        {
          "output_type": "execute_result",
          "data": {
            "text/plain": [
              "array([[ 0,  1,  2,  3],\n",
              "       [ 4,  5,  6,  7],\n",
              "       [ 8,  9, 10, 11]])"
            ]
          },
          "metadata": {},
          "execution_count": 35
        }
      ],
      "source": [
        "arr"
      ]
    },
    {
      "cell_type": "markdown",
      "metadata": {
        "id": "TqLrwZBKQuGv"
      },
      "source": [
        "arr如果对应到现实世界的一种解释：\n",
        "* 行：每行对应一个样本数据\n",
        "* 列：每列代表样本的一个特征\n",
        "\n",
        "数据标准化：  \n",
        "* 对于机器学习、神经网络来说，不同列的量纲应该相同，训练收敛的更快；\n",
        "* 比如商品的价格是0到100元、销量是1万到10万个，这俩数字没有可比性，因此需要先都做标准化；\n",
        "* 不同列代表不同的特征，因此需要axis=0做计算\n",
        "* 标准化一般使用A = (A - mean(A, axis=0)) / std(A, axis=0)公式进行"
      ]
    },
    {
      "cell_type": "code",
      "execution_count": 36,
      "metadata": {
        "colab": {
          "base_uri": "https://localhost:8080/"
        },
        "id": "OK1ulgYZQuGv",
        "outputId": "628721a9-5692-483b-d553-362d74d90148"
      },
      "outputs": [
        {
          "output_type": "execute_result",
          "data": {
            "text/plain": [
              "array([4., 5., 6., 7.])"
            ]
          },
          "metadata": {},
          "execution_count": 36
        }
      ],
      "source": [
        "# 计算每列的均值\n",
        "mean = np.mean(arr, axis=0)\n",
        "mean"
      ]
    },
    {
      "cell_type": "code",
      "execution_count": 37,
      "metadata": {
        "colab": {
          "base_uri": "https://localhost:8080/"
        },
        "id": "5m62hf8BQuGv",
        "outputId": "e0fc7138-cbf6-4c40-a934-50f97b9468c1"
      },
      "outputs": [
        {
          "output_type": "execute_result",
          "data": {
            "text/plain": [
              "array([3.26598632, 3.26598632, 3.26598632, 3.26598632])"
            ]
          },
          "metadata": {},
          "execution_count": 37
        }
      ],
      "source": [
        "# 计算每列的方差\n",
        "std = np.std(arr, axis=0)\n",
        "std"
      ]
    },
    {
      "cell_type": "code",
      "execution_count": null,
      "metadata": {
        "id": "TDGTRu3kQuGv",
        "outputId": "f3c88577-75a7-48bf-ded2-02349769ae06"
      },
      "outputs": [
        {
          "data": {
            "text/plain": [
              "array([[-4., -4., -4., -4.],\n",
              "       [ 0.,  0.,  0.,  0.],\n",
              "       [ 4.,  4.,  4.,  4.]])"
            ]
          },
          "execution_count": 25,
          "metadata": {},
          "output_type": "execute_result"
        }
      ],
      "source": [
        "# 计算分子，注意每行都会分别减去[4., 5., 6., 7.]，这叫做numpy的广播\n",
        "fenzi = arr-mean\n",
        "fenzi"
      ]
    },
    {
      "cell_type": "code",
      "execution_count": null,
      "metadata": {
        "id": "ZMhiWUpbQuGv",
        "outputId": "855d7ab5-03dd-429b-c968-d159621a58e2"
      },
      "outputs": [
        {
          "data": {
            "text/plain": [
              "array([[-1.22474487, -1.22474487, -1.22474487, -1.22474487],\n",
              "       [ 0.        ,  0.        ,  0.        ,  0.        ],\n",
              "       [ 1.22474487,  1.22474487,  1.22474487,  1.22474487]])"
            ]
          },
          "execution_count": 26,
          "metadata": {},
          "output_type": "execute_result"
        }
      ],
      "source": [
        "result = fenzi/std\n",
        "result"
      ]
    },
    {
      "cell_type": "markdown",
      "metadata": {
        "id": "O4U4NxqIQuGv"
      },
      "source": [
        "#### 用随机数再试一次"
      ]
    },
    {
      "cell_type": "code",
      "execution_count": 38,
      "metadata": {
        "colab": {
          "base_uri": "https://localhost:8080/"
        },
        "id": "NrYXyp5IQuGv",
        "outputId": "ec040c9f-89d0-4774-e9d1-a51865b1f42e"
      },
      "outputs": [
        {
          "output_type": "execute_result",
          "data": {
            "text/plain": [
              "array([[96, 45,  6, 99],\n",
              "       [ 4, 42, 45, 96],\n",
              "       [41, 54, 45, 24]])"
            ]
          },
          "metadata": {},
          "execution_count": 38
        }
      ],
      "source": [
        "arr2 = np.random.randint(1, 100, size=(3,4))\n",
        "arr2"
      ]
    },
    {
      "cell_type": "code",
      "execution_count": 39,
      "metadata": {
        "colab": {
          "base_uri": "https://localhost:8080/"
        },
        "id": "xkfvMkSTQuGw",
        "outputId": "eef41888-6685-4f13-cd0d-814dbf208a1e"
      },
      "outputs": [
        {
          "output_type": "execute_result",
          "data": {
            "text/plain": [
              "array([[ 1.29637493, -0.39223227, -1.41421356,  0.74993067],\n",
              "       [-1.13763514, -0.98058068,  0.70710678,  0.66340021],\n",
              "       [-0.15873979,  1.37281295,  0.70710678, -1.41333087]])"
            ]
          },
          "metadata": {},
          "execution_count": 39
        }
      ],
      "source": [
        "result = (arr2 - np.mean(arr2,axis=0)) / np.std(arr2,axis=0)\n",
        "result"
      ]
    },
    {
      "cell_type": "code",
      "execution_count": null,
      "metadata": {
        "id": "TO8-C2KXQuGw"
      },
      "outputs": [],
      "source": []
    }
  ],
  "metadata": {
    "kernelspec": {
      "display_name": "Python 3",
      "language": "python",
      "name": "python3"
    },
    "language_info": {
      "codemirror_mode": {
        "name": "ipython",
        "version": 3
      },
      "file_extension": ".py",
      "mimetype": "text/x-python",
      "name": "python",
      "nbconvert_exporter": "python",
      "pygments_lexer": "ipython3",
      "version": "3.7.6"
    },
    "colab": {
      "provenance": [],
      "include_colab_link": true
    }
  },
  "nbformat": 4,
  "nbformat_minor": 0
}