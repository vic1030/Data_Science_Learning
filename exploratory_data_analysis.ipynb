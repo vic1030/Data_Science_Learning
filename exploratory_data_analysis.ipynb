{
  "cells": [
    {
      "cell_type": "markdown",
      "metadata": {
        "id": "dda86172-bb5d-4bef-ab72-1c0a597d43ad"
      },
      "source": [
        "# Exploratory data analysis\n",
        "\n",
       
      ],
      "id": "dda86172-bb5d-4bef-ab72-1c0a597d43ad"
    },
    {
      "cell_type": "markdown",
      "metadata": {
        "id": "ed9cbc17-34c5-4986-9a57-621f62555756"
      },
      "source": [
        "## In this notebook\n",
        "\n",
        "In this notebook:\n",
        "\n",
        "-   We practice using `pandas` to read in and manipulate a data set. (We won’t have a separate tutorial on `pandas` - we will learn basic `pandas` techniques as we need them.)\n",
        "-   We learn a basic “recipe” for exploratory data analysis and apply it to an example"
      ],
      "id": "ed9cbc17-34c5-4986-9a57-621f62555756"
    },
    {
      "cell_type": "markdown",
      "metadata": {
        "id": "90ab96ec-0900-476d-bbb3-1b9c797fd35d"
      },
      "source": [
        "## Introduction"
      ],
      "id": "90ab96ec-0900-476d-bbb3-1b9c797fd35d"
    },
    {
      "cell_type": "markdown",
      "metadata": {
        "id": "a5a7c847-97ab-4414-a8ba-9bc059e30c90"
      },
      "source": [
        "The first step in applying machine learning to a real problem is *finding* or *creating* an appropriate data set with which to train your model."
      ],
      "id": "a5a7c847-97ab-4414-a8ba-9bc059e30c90"
    },
    {
      "cell_type": "markdown",
      "metadata": {
        "id": "7798e04d-4dd2-4e3e-a746-88ec2fcfe3a8"
      },
      "source": [
        "### What makes data “good”?\n",
        "\n",
        "What makes a good data set?\n",
        "\n",
        "-   **Size**: the more *samples* are in the data set, the more examples your machine learning model will be able to learn from, and the better it will do. Often, a simple machine learning model trained on a large data set will outperform a “fancy” model on a small data set.\n",
        "-   **Quality**: Are there *predictive* features in the data? Are no values (or very few values) missing, noisy, or incorrect? Is the scenario in which the data collected similar to the scenario in which your model will be used? These are examples of questions that we might ask to evaluate the quality of a data set."
      ],
      "id": "7798e04d-4dd2-4e3e-a746-88ec2fcfe3a8"
    },
    {
      "cell_type": "markdown",
      "metadata": {
        "id": "63f58d26-e9d1-4016-9b1c-c4e0499b1af3"
      },
      "source": [
        "One of the most important principles in machine learning is: **garbage in, garbage out**. If the data you use to train a machine learning model is problematic, or not well suited for the purpose, then even the best model will produce useless predictions."
      ],
      "id": "63f58d26-e9d1-4016-9b1c-c4e0499b1af3"
    },
    {
      "cell_type": "markdown",
      "metadata": {
        "id": "e3f17bae-4751-49f8-b4a1-793b3f0ae3ef"
      },
      "source": [
        "### Purpose of exploratory data analysis\n",
        "\n",
        "Once we have identified one or more candidate data sets for a particular problem, we perform some *exploratory data analysis*. This process helps us\n",
        "\n",
        "-   detect and possibly correct mistakes in the data\n",
        "-   check our assumptions about the data\n",
        "-   identify potential relationships between features\n",
        "-   assess the direction and rough size of relationships between features and the target variable\n",
        "\n",
        "Exploratory data analysis is important for understanding whether this data set is appropriate for the machine learning task at hand, and if any extra cleaning or processing steps are required before we use the data."
      ],
      "id": "e3f17bae-4751-49f8-b4a1-793b3f0ae3ef"
    },
    {
      "cell_type": "markdown",
      "metadata": {
        "id": "3811f39f-c88d-479d-8383-6ec04cda5cda"
      },
      "source": [
        "## “Recipe” for exploratory data analysis\n",
        "\n",
        "We will practice using a basic “recipe” for exploratory data analysis.\n",
        "\n",
        "1.  Set down *expectations* about the data\n",
        "2.  Load data and check that it is loaded correctly\n",
        "3.  Inspect the data to make sure it is consistent with your expectations (“sanity checks”), and clean or filter the data if needed\n",
        "4.  Explore relationships in the data to identify good candidate features and target variables\n",
        "\n",
        "Every exploratory data analysis is different, as specific characteristics of the data may lead you to explore different things in depth. However, this “recipe” can be a helpful starting point.\n",
        "\n",
        "**Note**: before we do anything with a dataset that we will use for machine learning, we should set aside a part of the data to use as a held-out test set! In this example, assume that we have already separated out a held-out test set."
      ],
      "id": "3811f39f-c88d-479d-8383-6ec04cda5cda"
    },
    {
      "cell_type": "markdown",
      "metadata": {
        "id": "3305be3d-25e6-4322-ae96-e21a0284d618"
      },
      "source": [
        "## Example: Brooklyn Bridge pedestrian data set"
      ],
      "id": "3305be3d-25e6-4322-ae96-e21a0284d618"
    },
    {
      "cell_type": "markdown",
      "metadata": {
        "id": "a719f18e-9448-4df1-8863-57c7e10be098"
      },
      "source": [
        "The Brooklyn Bridge is a bridge that connects Brooklyn and Manhattan. It supports vehicles, pedestrians, and bikers.\n",
        "\n",
        "![](https://brooklyneagle.com/wp-content/uploads/2019/01/7-Brooklyn-Bridge-pedestrians-in-bike-lane-to-right-of-white-stripe-January-2019-photo-by-Lore-Croghan-600x397.jpg)"
      ],
      "id": "a719f18e-9448-4df1-8863-57c7e10be098"
    },
    {
      "cell_type": "markdown",
      "metadata": {
        "id": "75517580-790c-4fd0-81b9-5ace7d7203b4"
      },
      "source": [
        "Support you are developing a machine learning model to predict the volume of pedestrian traffic on the Brooklyn Bridge. There is a dataset available that you think may be useful as training data: [Brooklyn Bridge Automated Pedestrian Counts dataset](https://data.cityofnewyork.us/Transportation/Brooklyn-Bridge-Automated-Pedestrian-Counts-Demons/6fi9-q3ta), from the NYC Department of Transportation.\n",
        "\n",
        "We will practice applying the “recipe” for exploratory data analysis to this data.\n",
        "\n",
        "We will use the `pandas` library in Python, which includes many powerful utilities for managing data. You can refer to the [`pandas` reference](https://pandas.pydata.org/pandas-docs/stable/reference/index.html) for more details on the `pandas` functions used in this notebook."
      ],
      "id": "75517580-790c-4fd0-81b9-5ace7d7203b4"
    },
    {
      "cell_type": "markdown",
      "metadata": {
        "id": "302ce0e6-7a60-4c50-a0af-c04087511e4f"
      },
      "source": [
        "### Set down *expectations* about the data\n",
        "\n",
        "The first step is to codify your expectations about the data *before* you look at it:\n",
        "\n",
        "-   Read about *methodology* and *data codebook*\n",
        "-   How many rows and columns are in the data?\n",
        "-   What does each variable mean? What units are data recorded in? What is the expected range or typical value for each column?\n",
        "-   What variables do you think could be used as target variable? What variables could be used as features from which to learn?\n",
        "-   How was data collected? Identify sampling issues, timeliness issues, fairness issues, etc."
      ],
      "id": "302ce0e6-7a60-4c50-a0af-c04087511e4f"
    },
    {
      "cell_type": "markdown",
      "metadata": {
        "id": "6520e8b9-221b-42d3-a344-70c95a193694"
      },
      "source": [
        "For the Brooklyn Bridge dataset, you can review the associated documentation on the NYC Data website:\n",
        "\n",
        "-   [NYC Data Website](https://data.cityofnewyork.us/Transportation/Brooklyn-Bridge-Automated-Pedestrian-Counts-Demons/6fi9-q3ta)\n",
        "-   [Data dictionary](https://data.cityofnewyork.us/api/views/6fi9-q3ta/files/845905ea-21d4-4ec7-958a-a1a09214513d?download=true&filename=Brooklyn_Bridge_Automated_Pedestrian_Counts_Demonstration_Project_data_dictionary.xlsx)"
      ],
      "id": "6520e8b9-221b-42d3-a344-70c95a193694"
    },
    {
      "cell_type": "markdown",
      "metadata": {
        "id": "709566ff-bf05-4160-b2b6-835ecb116f80"
      },
      "source": [
        "### Load data and check that it is loaded correctly\n",
        "\n",
        "The next step is to load the data in preparation for our exploratory data analysis. Then, we’ll check that it is loaded correctly.\n",
        "\n",
        "Some examples of the things we’ll look for include:\n",
        "\n",
        "-   Does the `DataFrame` have the correct number of rows and columns (consistent with our expectations from the first step)?\n",
        "-   Is the first row of “data” in the `DataFrame` real data, or is it column labels that were misinterpreted as data? (Similarly, are the column labels actually labels, or are they the first row of data?)\n",
        "-   Are the data types of every column consistent with our expectations?\n",
        "\n",
        "At this stage, we might also do some very basic manipulation of the data - for example, compute some fields that are derived directly from other fields. (For example, suppose you have a “distance” field in miles and you wanted to convert it to meters - you could do that here!)"
      ],
      "id": "709566ff-bf05-4160-b2b6-835ecb116f80"
    },
    {
      "cell_type": "markdown",
      "metadata": {
        "id": "eed8ecc0-a255-430b-8d14-3e71bac6124c"
      },
      "source": [
        "First, we will import some useful libraries:\n",
        "\n",
        "-   In Python - libraries add powerful functionality\n",
        "-   You can import an entire library (`import foo`) or part (`from foo import bar`)\n",
        "-   You can define a nickname, which you will use to call functions of these libraries (many libraries have “conventional” nicknames)\n",
        "\n",
        "`pandas` is a popular Python library for working with data. It is conventionally imported with the `pd` nickname."
      ],
      "id": "eed8ecc0-a255-430b-8d14-3e71bac6124c"
    },
    {
      "cell_type": "code",
      "execution_count": null,
      "metadata": {
        "id": "0155adc4-5995-4c1e-a0f8-d1f86030e517"
      },
      "outputs": [],
      "source": [
        "import pandas as pd\n",
        "import matplotlib.pyplot as plt\n",
        "import seaborn as sns\n",
        "\n",
        "# set up notebook to show all outputs, not only last one\n",
        "from IPython.core.interactiveshell import InteractiveShell\n",
        "InteractiveShell.ast_node_interactivity = \"all\""
      ],
      "id": "0155adc4-5995-4c1e-a0f8-d1f86030e517"
    },
    {
      "cell_type": "markdown",
      "metadata": {
        "id": "42e506a0-6663-4798-a319-8fe58ea25dd3"
      },
      "source": [
        "Now we are ready to read in our data!\n",
        "\n",
        "The main type of data structure in `pandas` is a `DataFrame`, which organizes data into a 2D table, like a spreadsheet. Unlike a `numpy` array, however, each column in a `DataFrame` can have different data types - for example, you can have a string column, an integer column, and a float column all in the same `DataFrame`.\n",
        "\n",
        "(The other major type of data in `pandas` is a `Series`, which is like a 1D array- any individual row or column from a `DataFrame` will be a `Series`.)"
      ],
      "id": "42e506a0-6663-4798-a319-8fe58ea25dd3"
    },
    {
      "cell_type": "markdown",
      "metadata": {
        "id": "7f5e15ca-842d-4508-b377-c880cf5ed71e"
      },
      "source": [
        "You *can* create a `DataFrame` or a `Series` “by hand” - for example, try\n",
        "\n",
        "``` python\n",
        "pd.Series([1,2,3,99])\n",
        "```\n",
        "\n",
        "or\n",
        "\n",
        "``` python\n",
        "pd.DataFrame({'fruit': ['apple', 'banana', 'kiwi'], 'cost': [0.55, 0.99, 1.24]})\n",
        "```"
      ],
      "id": "7f5e15ca-842d-4508-b377-c880cf5ed71e"
    },
    {
      "cell_type": "markdown",
      "metadata": {
        "id": "bd9dac1c-61e9-4221-939e-9c153da1ec07"
      },
      "source": [
        "But usually, we’ll read in data from a file.\n",
        "\n",
        "Our data for this Brooklyn Bridge example is in CSV format, so will use the `read_csv` function in `pandas` to read in our data. This function accepts a URL or a path to a file, and will return our data as a `DataFrame`.\n",
        "\n",
        "Function documentation: [pandas reference](https://pandas.pydata.org/pandas-docs/stable/reference/api/pandas.read_csv.html)\n",
        "\n",
        "``` python\n",
        "pandas.read_csv(filepath_or_buffer,\n",
        "    sep=',', header='infer',\n",
        "    names=None,\n",
        "    ...)\n",
        "```\n",
        "\n",
        "`read_csv` is for “flat” text files, where each data point is on another row, and the fields in a row are separated by some delimiter (e.g. comma). Other pandas functions exist for loading other kinds of data (read from database, Excel file, etc.)"
      ],
      "id": "bd9dac1c-61e9-4221-939e-9c153da1ec07"
    },
    {
      "cell_type": "code",
      "execution_count": null,
      "metadata": {
        "id": "6813cac9-2edd-45f2-b084-83eb1a430a9b"
      },
      "outputs": [],
      "source": [
        "url = 'https://data.cityofnewyork.us/api/views/6fi9-q3ta/rows.csv?accessType=DOWNLOAD'\n",
        "df = pd.read_csv(url)"
      ],
      "id": "6813cac9-2edd-45f2-b084-83eb1a430a9b"
    },
    {
      "cell_type": "markdown",
      "metadata": {
        "id": "88cdeae8-c0d7-4f06-b0b9-eab6a3b163a9"
      },
      "source": [
        "We will want to verify that the data was loaded correctly. For *tabular* data, we can start by looking at the first few rows of data or the last few rows of data with the `head` and `tail` functions, respectively. (For data that is not tabular, such as image, text, or audio data, we would similarly start by looking at some samples.)"
      ],
      "id": "88cdeae8-c0d7-4f06-b0b9-eab6a3b163a9"
    },
    {
      "cell_type": "code",
      "execution_count": null,
      "metadata": {
        "id": "1373041f-480e-47b8-9e34-79653cc56c09"
      },
      "outputs": [],
      "source": [
        "df.head()"
      ],
      "id": "1373041f-480e-47b8-9e34-79653cc56c09"
    },
    {
      "cell_type": "code",
      "execution_count": null,
      "metadata": {
        "id": "cd7c8a78-e9c0-477a-8017-66d0078d637b"
      },
      "outputs": [],
      "source": [
        "df.tail()"
      ],
      "id": "cd7c8a78-e9c0-477a-8017-66d0078d637b"
    },
    {
      "cell_type": "markdown",
      "metadata": {
        "id": "d6a545f3-519d-4fc7-a049-e645d22675f6"
      },
      "source": [
        "We can also get a few random rows:"
      ],
      "id": "d6a545f3-519d-4fc7-a049-e645d22675f6"
    },
    {
      "cell_type": "code",
      "execution_count": null,
      "metadata": {
        "id": "6b41e667-e352-47f9-87c7-a5fb271569e5"
      },
      "outputs": [],
      "source": [
        "df.sample(5)"
      ],
      "id": "6b41e667-e352-47f9-87c7-a5fb271569e5"
    },
    {
      "cell_type": "markdown",
      "metadata": {
        "id": "58082cb4-a58f-47e5-ae75-341ad81409a6"
      },
      "source": [
        "Looking at some rows can help us spot obvious problems with data loading. For example, suppose we had tried to read in the data using a tab delimiter to separate fields on the same row, instead of a comma."
      ],
      "id": "58082cb4-a58f-47e5-ae75-341ad81409a6"
    },
    {
      "cell_type": "code",
      "execution_count": null,
      "metadata": {
        "id": "50a5d164-0bdd-4420-88f5-e55006d3a033"
      },
      "outputs": [],
      "source": [
        "df_bad  = pd.read_csv(url, sep='\\t')\n",
        "df_bad.head()"
      ],
      "id": "50a5d164-0bdd-4420-88f5-e55006d3a033"
    },
    {
      "cell_type": "markdown",
      "metadata": {
        "id": "832b86c0-45d7-4f9a-aeef-7440d93e8526"
      },
      "source": [
        "This “bad” version of the `DataFrame` has only a single column (because it believes tabs are used to separate fields in the same row, when actually commas are used). The variable names are combined together into one long column name. By looking at the first few rows of data, we can spot this obvious error.\n",
        "\n",
        "Here is another example of a “bad” `DataFrame`. Suppose we tell `read_csv` that the data file itself does not have a header row at the top, with column names in it; instead, we supply column names ourselves."
      ],
      "id": "832b86c0-45d7-4f9a-aeef-7440d93e8526"
    },
    {
      "cell_type": "code",
      "execution_count": null,
      "metadata": {
        "id": "4435f5f9-6b45-44f8-9c84-67838b06c65f"
      },
      "outputs": [],
      "source": [
        "col_names = [\"hour_beginning\", \"location\", \"Pedestrians\", \"Towards Manhattan\",\n",
        "    \"Towards Brooklyn\", \"weather_summary\", \"temperature\", \"precipitation\",\n",
        "    \"lat\", \"long\", \"events\", \"Location1\"]\n",
        "df_bad  = pd.read_csv(url, header=None, names=col_names)\n",
        "df_bad.head()"
      ],
      "id": "4435f5f9-6b45-44f8-9c84-67838b06c65f"
    },
    {
      "cell_type": "markdown",
      "metadata": {
        "id": "86462192-fc46-4379-b623-be21b3b774c0"
      },
      "source": [
        "In this example, the first row in the file *is* actually a column header, and we mistakenly read it in as data. (A similar problem can occur in reverse - if we told `read_csv` that the first row *is* a header when it is not, then our “column labels” would actually be the first row of data.)"
      ],
      "id": "86462192-fc46-4379-b623-be21b3b774c0"
    },
    {
      "cell_type": "markdown",
      "metadata": {
        "id": "d8f37e20-2668-49c0-bd9b-825e36b14832"
      },
      "source": [
        "We should always check the shape of the data frame - the number of rows and columns. This, too, should be checked against our assumptions about the data (in this case, what we know from the NYC Data website.)"
      ],
      "id": "d8f37e20-2668-49c0-bd9b-825e36b14832"
    },
    {
      "cell_type": "code",
      "execution_count": null,
      "metadata": {
        "id": "2c901296-3f94-4256-82fd-6dd92c4b8ac5"
      },
      "outputs": [],
      "source": [
        "df.shape"
      ],
      "id": "2c901296-3f94-4256-82fd-6dd92c4b8ac5"
    },
    {
      "cell_type": "markdown",
      "metadata": {
        "id": "409a35ec-06b6-4910-817b-b4d83d31d9b1"
      },
      "source": [
        "Check the names of the columns and their data types:"
      ],
      "id": "409a35ec-06b6-4910-817b-b4d83d31d9b1"
    },
    {
      "cell_type": "code",
      "execution_count": null,
      "metadata": {
        "id": "7fe9fda8-7c84-46b1-aa5a-68ec10b54c02"
      },
      "outputs": [],
      "source": [
        "df.columns\n",
        "df.dtypes"
      ],
      "id": "7fe9fda8-7c84-46b1-aa5a-68ec10b54c02"
    },
    {
      "cell_type": "markdown",
      "metadata": {
        "id": "545c0f29-172f-4aca-acc8-3973b6126146"
      },
      "source": [
        "The main data types we’ll see most often are `int64` (integer), `float64` (numeric), `bool` (True or False), or `object` (which includes string)."
      ],
      "id": "545c0f29-172f-4aca-acc8-3973b6126146"
    },
    {
      "cell_type": "markdown",
      "metadata": {
        "id": "bf4387b7-50ee-4b96-9088-b10707a0be55"
      },
      "source": [
        "We can also get a quick summary with `info()`;"
      ],
      "id": "bf4387b7-50ee-4b96-9088-b10707a0be55"
    },
    {
      "cell_type": "code",
      "execution_count": null,
      "metadata": {
        "id": "f0b107cc-e001-47fd-bf43-b217da74a541"
      },
      "outputs": [],
      "source": [
        "df.info()"
      ],
      "id": "f0b107cc-e001-47fd-bf43-b217da74a541"
    },
    {
      "cell_type": "markdown",
      "metadata": {
        "id": "69ab0171-70d0-46b4-8b48-eb0f7088fd2d"
      },
      "source": [
        "`pandas` infers the data type of each column automatically from the contents of the data.\n",
        "\n",
        "If the data type of a column is not what you expect it to be, this can often be a signal that the data needs cleaning. For example, if you expect a column to be numeric and it is read in as non-numeric, this indicates that there are probably some samples that include a non-numeric value in that column. (The [NYC Data website](https://data.cityofnewyork.us/Transportation/Brooklyn-Bridge-Automated-Pedestrian-Counts-Demons/6fi9-q3ta) indicates what type of data *should* be in each column, so you should reference that when checking this output. )"
      ],
      "id": "69ab0171-70d0-46b4-8b48-eb0f7088fd2d"
    },
    {
      "cell_type": "markdown",
      "metadata": {
        "id": "95fd209c-3473-4f9a-9132-31d8019db6e2"
      },
      "source": [
        "We have a date/time column (`hour_beginning`) that was read in as a string. Let’s take a closer look at that. We can get one column of data either using a notation like a dictionary, as in\n",
        "\n",
        "``` python\n",
        "df['hour_beginning']\n",
        "```\n",
        "\n",
        "or using class attribute-like notation, as in\n",
        "\n",
        "``` python\n",
        "df.hour_beginning\n",
        "```\n",
        "\n",
        "(either one returns exactly the same thing!) (Note that if the column name includes spaces, you can only use the notation with the brackets, since it encloses the column name in quotes.)"
      ],
      "id": "95fd209c-3473-4f9a-9132-31d8019db6e2"
    },
    {
      "cell_type": "markdown",
      "metadata": {
        "id": "c55fc659-e401-4ffe-8758-a5cb0ef83a27"
      },
      "source": [
        "`pandas` includes a `to_datetime` function to convert this string to a “native” date/time format, so we can use that now:"
      ],
      "id": "c55fc659-e401-4ffe-8758-a5cb0ef83a27"
    },
    {
      "cell_type": "code",
      "execution_count": null,
      "metadata": {
        "id": "a3c54af8-1235-4dbf-a2bf-f5938fa4970b"
      },
      "outputs": [],
      "source": [
        "df['hour_beginning'] = pd.to_datetime(df['hour_beginning'])\n",
        "df.info()"
      ],
      "id": "a3c54af8-1235-4dbf-a2bf-f5938fa4970b"
    },
    {
      "cell_type": "markdown",
      "metadata": {
        "id": "447bdbf7-373e-4e9a-b8a0-685d1ab1c5ef"
      },
      "source": [
        "You may notice that the `hour_beginning` variable includes the full date and time in one field. For our analysis, it would be more useful to have separate fields for the date, month, day of the week, and hour.\n",
        "\n",
        "We can create these additional fields by assigning the desired value to them directly - then, observe the effect:"
      ],
      "id": "447bdbf7-373e-4e9a-b8a0-685d1ab1c5ef"
    },
    {
      "cell_type": "code",
      "execution_count": null,
      "metadata": {
        "id": "b88b24a1-567e-4373-a6d3-edffbac615a7"
      },
      "outputs": [],
      "source": [
        "df['hour'] = df['hour_beginning'].dt.hour\n",
        "df['month'] = df['hour_beginning'].dt.month\n",
        "df['date'] = df['hour_beginning'].dt.date\n",
        "df['day_name'] = df['hour_beginning'].dt.day_name()\n",
        "\n",
        "df.head()"
      ],
      "id": "b88b24a1-567e-4373-a6d3-edffbac615a7"
    },
    {
      "cell_type": "markdown",
      "metadata": {
        "id": "feb542d6-1d6a-41c8-a6c8-b2f0f5ec8291"
      },
      "source": [
        "### Inspect (and possibly clean/filter) the data\n",
        "\n",
        "Now we are ready to inspect the data.\n",
        "\n",
        "Some examples of the things we’ll look for include:\n",
        "\n",
        "-   Are there missing values? There may be rows *in* the data where some or all fields are missing (which can be denoted as None, NaN, or even 0 or -1 - which can be misleading when 0 or -1 are also valid values for that field.) There may also be rows *not in* the data, that we expect *should be* in the data.\n",
        "-   For numeric fields: Is the min and max of each field consistent with our expectation? Is the median consistent with our expectation?\n",
        "-   For non-numeric fields: Are the number of unique values in each field consistent with our expectations? Are the values of the factor levels (where these can reasonably be assessed) described consistently throughout the data?\n",
        "-   Are the relationships *between* variables consistent with our expectations? (We can evaluate this visually, and also by looking at summary statistics.)\n",
        "-   If the data is a time series, is the trend of each variable over time consistent with our expectations?\n",
        "\n",
        "For many of these “sanity checks”, we will need some *domain knowledge*. It’s hard to have reasonable expectations about the values in the data if you do not understand the topic that the data relates to."
      ],
      "id": "feb542d6-1d6a-41c8-a6c8-b2f0f5ec8291"
    },
    {
      "cell_type": "markdown",
      "metadata": {
        "id": "d591d15e-583e-4dfd-b165-db5268df8623"
      },
      "source": [
        "#### Check whether data is complete"
      ],
      "id": "d591d15e-583e-4dfd-b165-db5268df8623"
    },
    {
      "cell_type": "markdown",
      "metadata": {
        "id": "6f264978-a754-48ef-8920-59745ec8784b"
      },
      "source": [
        "Let us start by checking whether the data is complete. First, we’ll check whether there are any rows in the data where some or all fields are missing.\n",
        "\n",
        "We can see the number of missing values in each column by summing up all the instances where the `isnull` function returns a True value:"
      ],
      "id": "6f264978-a754-48ef-8920-59745ec8784b"
    },
    {
      "cell_type": "code",
      "execution_count": null,
      "metadata": {
        "id": "191da470-0b43-457d-9650-71b529fb841e"
      },
      "outputs": [],
      "source": [
        "df.isnull().sum()"
      ],
      "id": "191da470-0b43-457d-9650-71b529fb841e"
    },
    {
      "cell_type": "markdown",
      "metadata": {
        "id": "1b3ded6b-5762-403d-bf9f-945cc2d3dfe5"
      },
      "source": [
        "(Note that this only tells us about missing values that are explicitly denoted as such - for example, explicit `NaN` values. If a missing value is coded as something else - like a 0 or -1 - we wouldn’t know unless we noticed an unusually high frequency of 0 or -1 values.)"
      ],
      "id": "1b3ded6b-5762-403d-bf9f-945cc2d3dfe5"
    },
    {
      "cell_type": "markdown",
      "metadata": {
        "id": "1938328e-de9d-445e-b4c1-57ce17e101d0"
      },
      "source": [
        "We notice that the majority of rows are missing a value in the `events` field, which is used to mark dates that are holidays or other special events. This is reasonable, since most dates do not have any remarkable events.\n",
        "\n",
        "Let’s look at the rows that *do* have a value in the `events` field. To filter a dataframe, we’ll use the `.loc[]` operator. This accepts either an index (for example, we can do `df.loc[0]` to see the first record in the dataframe), an array of indices (for example, `df.loc[[0,1,2]]`), or an array of boolean values the length of the entire dataframe. That’s what we’ll use here."
      ],
      "id": "1938328e-de9d-445e-b4c1-57ce17e101d0"
    },
    {
      "cell_type": "code",
      "execution_count": null,
      "metadata": {
        "id": "9aa7bc51-e75b-4595-be75-b274dd0599e4"
      },
      "outputs": [],
      "source": [
        "df.loc[df['events'].notnull()]"
      ],
      "id": "9aa7bc51-e75b-4595-be75-b274dd0599e4"
    },
    {
      "cell_type": "markdown",
      "metadata": {
        "id": "be9a8b4c-2e44-4715-83e9-ba8a99e4518b"
      },
      "source": [
        "We also notice a small number of rows missing weather information. It’s not clear why these are missing. Let’s take a closer look at some of those rows, by *filtering* the dataframe to only rows that meet a specific condition - in this case, that the `temperature` field is missing."
      ],
      "id": "be9a8b4c-2e44-4715-83e9-ba8a99e4518b"
    },
    {
      "cell_type": "code",
      "execution_count": null,
      "metadata": {
        "id": "7a818890-f054-422d-bf72-fe48e5a6015a"
      },
      "outputs": [],
      "source": [
        "df.loc[df.temperature.isnull()]"
      ],
      "id": "7a818890-f054-422d-bf72-fe48e5a6015a"
    },
    {
      "cell_type": "markdown",
      "metadata": {
        "id": "a5675aff-4016-459b-9331-1d5565254a4d"
      },
      "source": [
        "We can see that for these particular instances, all of the weather information is missing. There’s no obvious reason or pattern. We’ll deal with these soon, when we try to clean/filter the data."
      ],
      "id": "a5675aff-4016-459b-9331-1d5565254a4d"
    },
    {
      "cell_type": "markdown",
      "metadata": {
        "id": "9d819dc1-2986-4a25-8293-34e8f3cd1cc9"
      },
      "source": [
        "Before we do that, though, let’s check for the *other* kind of missing data: rows that are missing completely, that we expect *should* be present.\n",
        "\n",
        "In this example, the data is a time series, and we expect that there is exactly one row of data for every single hour over the time period in which this data was collected."
      ],
      "id": "9d819dc1-2986-4a25-8293-34e8f3cd1cc9"
    },
    {
      "cell_type": "markdown",
      "metadata": {
        "id": "c6939584-5f7d-4415-9f3c-b58dd234dbb7"
      },
      "source": [
        "Let’s see if the data is complete, or if there are gaps in time.\n",
        "\n",
        "First, we will use [`pd.date_range`](https://pandas.pydata.org/pandas-docs/stable/reference/api/pandas.date_range.html) to get the list of hour intervals that we expect to find in the dataset. Then, we will find the difference between this list and the actual list of hour intervals in the dataset - these are missing intervals."
      ],
      "id": "c6939584-5f7d-4415-9f3c-b58dd234dbb7"
    },
    {
      "cell_type": "code",
      "execution_count": null,
      "metadata": {
        "id": "ad68563a-cc6c-471e-9eb9-318de0a5f229"
      },
      "outputs": [],
      "source": [
        "# get beginning and end of date range\n",
        "min_dt = df.hour_beginning.min()\n",
        "max_dt = df.hour_beginning.max()\n",
        "print(min_dt)\n",
        "print(max_dt)"
      ],
      "id": "ad68563a-cc6c-471e-9eb9-318de0a5f229"
    },
    {
      "cell_type": "code",
      "execution_count": null,
      "metadata": {
        "id": "0d6a48b2-d4ea-4ccf-8256-d016774bbd97"
      },
      "outputs": [],
      "source": [
        "expected_range = pd.date_range(start = min_dt, end = max_dt, freq='H' )\n",
        "expected_range"
      ],
      "id": "0d6a48b2-d4ea-4ccf-8256-d016774bbd97"
    },
    {
      "cell_type": "code",
      "execution_count": null,
      "metadata": {
        "id": "50c22708-2570-4100-bdd2-3b6001aced25"
      },
      "outputs": [],
      "source": [
        "# then identify the missing hours\n",
        "missing_hours = expected_range.difference(df['hour_beginning'])\n",
        "print(missing_hours)"
      ],
      "id": "50c22708-2570-4100-bdd2-3b6001aced25"
    },
    {
      "cell_type": "markdown",
      "metadata": {
        "id": "c29d0644-a0d2-4735-be42-375c7adf1284"
      },
      "source": [
        "We had the expected number of rows (the output of `shape` matched the description of the data on the NYC Data website), but the data seems to be missing samples from August 2018 through December 2018, which is worth keeping in mind if we decide to use it:"
      ],
      "id": "c29d0644-a0d2-4735-be42-375c7adf1284"
    },
    {
      "cell_type": "code",
      "execution_count": null,
      "metadata": {
        "id": "2b94ea9e-bf01-4aca-8232-65274fb5578d"
      },
      "outputs": [],
      "source": [
        "pd.unique(missing_hours.date)"
      ],
      "id": "2b94ea9e-bf01-4aca-8232-65274fb5578d"
    },
    {
      "cell_type": "markdown",
      "metadata": {
        "id": "7715f8f7-e17e-4a5c-a2df-6caaae264adb"
      },
      "source": [
        "Let’s also check if any hour appears more than once in the data. We can use `pandas`’s `value_counts` function to find out how many times each unique value appears in the data:"
      ],
      "id": "7715f8f7-e17e-4a5c-a2df-6caaae264adb"
    },
    {
      "cell_type": "code",
      "execution_count": null,
      "metadata": {
        "id": "fc9a8ada-e4ca-4fb2-9e51-b3b3aaaf078a"
      },
      "outputs": [],
      "source": [
        "df['hour_beginning'].value_counts()"
      ],
      "id": "fc9a8ada-e4ca-4fb2-9e51-b3b3aaaf078a"
    },
    {
      "cell_type": "markdown",
      "metadata": {
        "id": "31552762-2432-4614-94a2-95999e137208"
      },
      "source": [
        "It looks like at least one hour appears twice in the data, which is unexpected! Let’s use filtering again to find out all of the instances where that occurs:"
      ],
      "id": "31552762-2432-4614-94a2-95999e137208"
    },
    {
      "cell_type": "code",
      "execution_count": null,
      "metadata": {
        "id": "5ea50ee4-3a61-4e2b-a059-e34e230dceae"
      },
      "outputs": [],
      "source": [
        "hour_counts = df['hour_beginning'].value_counts()\n",
        "hour_counts.loc[hour_counts > 1]"
      ],
      "id": "5ea50ee4-3a61-4e2b-a059-e34e230dceae"
    },
    {
      "cell_type": "markdown",
      "metadata": {
        "id": "19b7e9cd-9775-4fb4-98b2-8bb63d9f5bd2"
      },
      "source": [
        "It seems to happen exactly once. Let’s filter the dataframe to find the rows corresponding to the duplicate day.\n",
        "\n",
        "Here’s a useful clue - we can see that this hour appears twice because the clock is shifted for Daylight Savings time. (It’s not clear why there is no duplicate hour for that same event in 2017. Perhaps only one of those hours is recorded.)"
      ],
      "id": "19b7e9cd-9775-4fb4-98b2-8bb63d9f5bd2"
    },
    {
      "cell_type": "code",
      "execution_count": null,
      "metadata": {
        "id": "de806097-15e4-41ce-8b99-641542eaac68"
      },
      "outputs": [],
      "source": [
        "df.loc[df['hour_beginning']==\"2019-11-03 01:00:00\"]"
      ],
      "id": "de806097-15e4-41ce-8b99-641542eaac68"
    },
    {
      "cell_type": "markdown",
      "metadata": {
        "id": "5f013965-2caf-4c89-b511-163ea4d1b3f8"
      },
      "source": [
        "#### Handle missing values"
      ],
      "id": "5f013965-2caf-4c89-b511-163ea4d1b3f8"
    },
    {
      "cell_type": "markdown",
      "metadata": {
        "id": "04e6fea5-efbe-494f-baa8-b98659210619"
      },
      "source": [
        "Now that we have evaluated the “completeness” of our data, we have to decide what to do about missing values.\n",
        "\n",
        "Some machine learning models cannot tolerate data with missing values. Depending on what *type* of data is missing and *why* it is missing, we can\n",
        "\n",
        "-   drop rows with missing values from the dataset\n",
        "-   fill in (“impute”) the missing values with some value: a 0, the mode of that column, the median of that column, or forward/back fill data from the nearest row that is not missing"
      ],
      "id": "04e6fea5-efbe-494f-baa8-b98659210619"
    },
    {
      "cell_type": "markdown",
      "metadata": {
        "id": "36b5b2a1-b78d-4832-9db2-a26e94a9c00a"
      },
      "source": [
        "For this data, let’s try the forward/back fill method. This makes some sense because the data has a logical order in time, and the missing value - weather - changes relatively slowly with respect to time. We can expect that the weather at any given hour is probably similar to the weather in the previous (or next) hour.\n",
        "\n",
        "For this to work, we’ll first have to sort the data by time. (Note that the data was not sorted originally.)"
      ],
      "id": "36b5b2a1-b78d-4832-9db2-a26e94a9c00a"
    },
    {
      "cell_type": "code",
      "execution_count": null,
      "metadata": {
        "id": "4cafce6e-fbf3-49ab-94f2-2bf1b5214716"
      },
      "outputs": [],
      "source": [
        "df = df.sort_values(by='hour_beginning')\n",
        "df.head()"
      ],
      "id": "4cafce6e-fbf3-49ab-94f2-2bf1b5214716"
    },
    {
      "cell_type": "markdown",
      "metadata": {
        "id": "a5a7ce98-e6b4-4b87-8517-983828c59e1b"
      },
      "source": [
        "We can also “reset” the index now, so that if we ask for `df.loc[0]` we’ll get the first row in time, and so on."
      ],
      "id": "a5a7ce98-e6b4-4b87-8517-983828c59e1b"
    },
    {
      "cell_type": "code",
      "execution_count": null,
      "metadata": {
        "id": "e1de6e9f-428a-4236-bb02-8136fb5a4a4e"
      },
      "outputs": [],
      "source": [
        "df.reset_index(drop=True, inplace=True)\n",
        "df.head()"
      ],
      "id": "e1de6e9f-428a-4236-bb02-8136fb5a4a4e"
    },
    {
      "cell_type": "markdown",
      "metadata": {
        "id": "57db1398-7182-4106-b24b-88c7be5c7bae"
      },
      "source": [
        "Now we can fill in missing data using the `fillna` function ([reference](https://pandas.pydata.org/pandas-docs/stable/reference/api/pandas.DataFrame.fillna.html)). We will fill the missing weather data using the “forward fill” method, which caries the last valid observation forward to fill in NAs."
      ],
      "id": "57db1398-7182-4106-b24b-88c7be5c7bae"
    },
    {
      "cell_type": "code",
      "execution_count": null,
      "metadata": {
        "id": "3bd411b5-66c4-47c4-8ed0-d3212e52cc9d"
      },
      "outputs": [],
      "source": [
        "df['temperature'] = df['temperature'].fillna(method=\"ffill\")\n",
        "df['precipitation'] = df['precipitation'].fillna(method=\"ffill\")\n",
        "df['weather_summary'] = df['weather_summary'].fillna(method=\"ffill\")\n"
      ],
      "id": "3bd411b5-66c4-47c4-8ed0-d3212e52cc9d"
    },
    {
      "cell_type": "markdown",
      "metadata": {
        "id": "e7fce02a-3de1-430c-916b-a610401fa22c"
      },
      "source": [
        "Having imputed missing vaules in the weather-related columns, we can count the NAs again and find that there are only missing values in the `events` column."
      ],
      "id": "e7fce02a-3de1-430c-916b-a610401fa22c"
    },
    {
      "cell_type": "code",
      "execution_count": null,
      "metadata": {
        "id": "483c8461-cb0a-4337-9cd2-b496864e5f44"
      },
      "outputs": [],
      "source": [
        "df.isnull().sum()"
      ],
      "id": "483c8461-cb0a-4337-9cd2-b496864e5f44"
    },
    {
      "cell_type": "markdown",
      "metadata": {
        "id": "b21a43a7-bc87-439e-9256-1f3d3bdd0c31"
      },
      "source": [
        "#### Validating expectations"
      ],
      "id": "b21a43a7-bc87-439e-9256-1f3d3bdd0c31"
    },
    {
      "cell_type": "markdown",
      "metadata": {
        "id": "e908a8e3-6ffb-4adb-ac1f-5d846cef294a"
      },
      "source": [
        "Now that we have some idea of the completeness of the data, let’s look at whether the data values are consistent with our expectations.\n",
        "\n",
        "To start, let’s look at summary statistics. The “five number summary” - extremes (min and max), median, and quartiles -can help us gain a better understanding of numeric fields in the data, and see whether they have reasonable values. We can use the `describe` function in `pandas` to compute this summary."
      ],
      "id": "e908a8e3-6ffb-4adb-ac1f-5d846cef294a"
    },
    {
      "cell_type": "code",
      "execution_count": null,
      "metadata": {
        "id": "1422e1c9-93af-4444-a01c-c83ab33afc96"
      },
      "outputs": [],
      "source": [
        "df.describe()"
      ],
      "id": "1422e1c9-93af-4444-a01c-c83ab33afc96"
    },
    {
      "cell_type": "markdown",
      "metadata": {
        "id": "b104721f-6d39-4f92-832f-a6462102a87f"
      },
      "source": [
        "We can only compute those summary statistics for numerical variables. For categorical variables, we can use `value_counts()` to get frequency of each value.\n",
        "\n",
        "For example, let’s see how often each `weather` condition occurs, and whether it is reasonable for NYC:"
      ],
      "id": "b104721f-6d39-4f92-832f-a6462102a87f"
    },
    {
      "cell_type": "code",
      "execution_count": null,
      "metadata": {
        "id": "220d164f-ec84-48ca-8a84-f3a1dd68ea0c"
      },
      "outputs": [],
      "source": [
        "df.weather_summary.value_counts()"
      ],
      "id": "220d164f-ec84-48ca-8a84-f3a1dd68ea0c"
    },
    {
      "cell_type": "markdown",
      "metadata": {
        "id": "ee192da9-b40f-4c53-b717-2f627cbea296"
      },
      "source": [
        "It’s also useful to verify expected relationships.\n",
        "\n",
        "For example, we expect to see precipitation when the weather is rainy. We can use `groupby` in `pandas` to capture the effect between a categorical variable (`weather_summary`) and a numerical one, `precipitation`:"
      ],
      "id": "ee192da9-b40f-4c53-b717-2f627cbea296"
    },
    {
      "cell_type": "code",
      "execution_count": null,
      "metadata": {
        "id": "45aabd86-3cae-4533-a180-743b1237bae5"
      },
      "outputs": [],
      "source": [
        "df.groupby('weather_summary')['precipitation'].describe()"
      ],
      "id": "45aabd86-3cae-4533-a180-743b1237bae5"
    },
    {
      "cell_type": "markdown",
      "metadata": {
        "id": "5735f674-0e3f-44b7-8c12-ebd24b9efbed"
      },
      "source": [
        "Make special note of the `count` column, which shows us the prevalence of different weather conditions in this dataset. There are some weather conditions for which we have very few examples."
      ],
      "id": "5735f674-0e3f-44b7-8c12-ebd24b9efbed"
    },
    {
      "cell_type": "markdown",
      "metadata": {
        "id": "f9192be3-6205-4ec1-9dee-3c9902606f22"
      },
      "source": [
        "Similarly, we can validate our expectation of hotter weather in the summer months:"
      ],
      "id": "f9192be3-6205-4ec1-9dee-3c9902606f22"
    },
    {
      "cell_type": "code",
      "execution_count": null,
      "metadata": {
        "id": "628e7647-d796-4b5e-98dd-1dee6636ab85"
      },
      "outputs": [],
      "source": [
        "df.groupby('month')['temperature'].describe()"
      ],
      "id": "628e7647-d796-4b5e-98dd-1dee6636ab85"
    },
    {
      "cell_type": "markdown",
      "metadata": {
        "id": "52d82aba-7db0-434c-b33a-0957c41021fa"
      },
      "source": [
        "as well as during the middle of the day:"
      ],
      "id": "52d82aba-7db0-434c-b33a-0957c41021fa"
    },
    {
      "cell_type": "code",
      "execution_count": null,
      "metadata": {
        "id": "208f80db-c9d4-49dc-acb0-c983e4e3706a"
      },
      "outputs": [],
      "source": [
        "df.groupby('hour')['temperature'].describe()"
      ],
      "id": "208f80db-c9d4-49dc-acb0-c983e4e3706a"
    },
    {
      "cell_type": "markdown",
      "metadata": {
        "id": "c1695ce5-746d-4749-80d2-83c189260958"
      },
      "source": [
        "#### Create a pairplot"
      ],
      "id": "c1695ce5-746d-4749-80d2-83c189260958"
    },
    {
      "cell_type": "markdown",
      "metadata": {
        "id": "23c577ee-b652-42f2-a135-dc00685b92c7"
      },
      "source": [
        "For tabular data with multiple numeric features, it is often useful to create a *pairplot*. A pairplot shows pairwise relationships between all numerical variables. It is a useful way to identify variables that have a relationship."
      ],
      "id": "23c577ee-b652-42f2-a135-dc00685b92c7"
    },
    {
      "cell_type": "markdown",
      "metadata": {
        "id": "e5b16d2d-12e1-4991-9d4e-9d77e453afd7"
      },
      "source": [
        "We can create a “default” pairplot with"
      ],
      "id": "e5b16d2d-12e1-4991-9d4e-9d77e453afd7"
    },
    {
      "cell_type": "code",
      "execution_count": null,
      "metadata": {
        "id": "c29c7c9f-a5b7-416e-8e31-064fdcde20df"
      },
      "outputs": [],
      "source": [
        "sns.pairplot(df)"
      ],
      "id": "c29c7c9f-a5b7-416e-8e31-064fdcde20df"
    },
    {
      "cell_type": "markdown",
      "metadata": {
        "id": "8cf85723-3c3d-457d-bae9-7d06341843c3"
      },
      "source": [
        "Here, each pane shows one numerical variable on the x-axis and another numerical variable on the y-axis, so that we can see if a relationship exists between them. The panes along the diagonal shows the empirical distribution of values for each feature in this data."
      ],
      "id": "8cf85723-3c3d-457d-bae9-7d06341843c3"
    },
    {
      "cell_type": "markdown",
      "metadata": {
        "id": "b109413d-612a-495b-b5d7-0e7f298bdeb1"
      },
      "source": [
        "But, it is difficult to see anything useful because there is so much going on in this plot. We can improve things somewhat by:\n",
        "\n",
        "-   specifying only the variables we want to include, and exluding variables that don’t contain useful information, such as `lat` and `long`, and\n",
        "-   making the points on the plot smaller and partially transparent, to help with the overplotting.\n",
        "\n",
        "We’ll also change the histograms on the diagonal, which show the frequency of values for each variable, into a density plot which shows the same information in a more useful format."
      ],
      "id": "b109413d-612a-495b-b5d7-0e7f298bdeb1"
    },
    {
      "cell_type": "code",
      "execution_count": null,
      "metadata": {
        "id": "c2f3272f-7050-40ea-a347-07caf6099edf"
      },
      "outputs": [],
      "source": [
        "sns.pairplot(df,\n",
        "             vars=['Pedestrians', 'temperature', 'precipitation', 'hour', 'month'],\n",
        "             diag_kind = 'kde',\n",
        "             plot_kws={'alpha':0.5, 'size': 0.1})"
      ],
      "id": "c2f3272f-7050-40ea-a347-07caf6099edf"
    },
    {
      "cell_type": "markdown",
      "metadata": {
        "id": "16aa77b8-ee3f-4bef-a9f3-cbbf801b948b"
      },
      "source": [
        "This plot validates the relationship between `temperature` and `hour`, and between `temperature` and `month`. However, we can also use this plot to identify useful features - features that appear to be related to the `target` variable."
      ],
      "id": "16aa77b8-ee3f-4bef-a9f3-cbbf801b948b"
    },
    {
      "cell_type": "markdown",
      "metadata": {
        "id": "e7aa95ec-308e-4f76-b9b8-2b2f657bb250"
      },
      "source": [
        "### Explore relationships and identify target variable and features"
      ],
      "id": "e7aa95ec-308e-4f76-b9b8-2b2f657bb250"
    },
    {
      "cell_type": "markdown",
      "metadata": {
        "id": "297c2cd7-df36-4ad5-acbc-551e1b94bfd5"
      },
      "source": [
        "Finally, since our goal is to train a machine learning model, we want to identify:\n",
        "\n",
        "-   an appropriate target variable - something on which to train our model. (Either a direct target variable, or a proxy.)\n",
        "-   features that are predictive - if there is any noticeable relationship between the target variable and any other variable, this is likely to be a useful feature.\n",
        "-   features that are correlated with one another - if two features are highly correlated, this presents some difficulty to certain types of models, so we’ll want to know about it."
      ],
      "id": "297c2cd7-df36-4ad5-acbc-551e1b94bfd5"
    },
    {
      "cell_type": "markdown",
      "metadata": {
        "id": "130683d7-9c97-4aea-977d-5b5c6c22d02d"
      },
      "source": [
        "The `Pedestrians` variable is the obvious target variable for this learning problem: it’s exactly the quantity we want to predict."
      ],
      "id": "130683d7-9c97-4aea-977d-5b5c6c22d02d"
    },
    {
      "cell_type": "markdown",
      "metadata": {
        "id": "ecd2b808-8a54-4569-96be-cbc027d3d657"
      },
      "source": [
        "To identify potential predictive features among the numeric variables in the data, we can use the pairplot. Look at the row of the pairplot in which `Pedestrians` is on the vertical axis, and each of the other variables in turn is on the horizontal axis. Which of these seem to show a relationship? (Note: the relationship does not necessarily need to be a linear relationship.)"
      ],
      "id": "ecd2b808-8a54-4569-96be-cbc027d3d657"
    },
    {
      "cell_type": "markdown",
      "metadata": {
        "id": "83254a79-8272-4c65-8788-adf33026d8a4"
      },
      "source": [
        "We will also want to evaluate the categorical variables. For example, to look for a relationship between day of the week and pedestrian volume, we can group by `day_name`, then call the `describe` function on the `Pedestrians` column:"
      ],
      "id": "83254a79-8272-4c65-8788-adf33026d8a4"
    },
    {
      "cell_type": "code",
      "execution_count": null,
      "metadata": {
        "id": "ccf3121d-b64c-4cce-810c-e5de95392360"
      },
      "outputs": [],
      "source": [
        "df.groupby('day_name')['Pedestrians'].describe()"
      ],
      "id": "ccf3121d-b64c-4cce-810c-e5de95392360"
    },
    {
      "cell_type": "markdown",
      "metadata": {
        "id": "f99eacf0-d511-4ea6-9bcf-0822b8c2a90b"
      },
      "source": [
        "Similarly, we can see the effect of weather:"
      ],
      "id": "f99eacf0-d511-4ea6-9bcf-0822b8c2a90b"
    },
    {
      "cell_type": "code",
      "execution_count": null,
      "metadata": {
        "id": "36fa11a7-2561-4ca4-8fe5-e93202079cca"
      },
      "outputs": [],
      "source": [
        "df.groupby('weather_summary')['Pedestrians'].describe()"
      ],
      "id": "36fa11a7-2561-4ca4-8fe5-e93202079cca"
    },
    {
      "cell_type": "markdown",
      "metadata": {
        "id": "1a921a26-56c1-42e3-93e8-a1a797c36d70"
      },
      "source": [
        "And the effect of various holidays:"
      ],
      "id": "1a921a26-56c1-42e3-93e8-a1a797c36d70"
    },
    {
      "cell_type": "code",
      "execution_count": null,
      "metadata": {
        "id": "fd0d0146-6b7f-4560-8c94-5f9cc8f06a5d"
      },
      "outputs": [],
      "source": [
        "df.groupby('events')['Pedestrians'].describe()"
      ],
      "id": "fd0d0146-6b7f-4560-8c94-5f9cc8f06a5d"
    },
    {
      "cell_type": "markdown",
      "metadata": {
        "id": "07844e02-e8ce-4bfc-b5c0-aeaa83e42c70"
      },
      "source": [
        "Now armed with information about these relationships, we can identify good candidate features for a machine learning model."
      ],
      "id": "07844e02-e8ce-4bfc-b5c0-aeaa83e42c70"
    }
  ],
  "nbformat": 4,
  "nbformat_minor": 5,
  "metadata": {
    "colab": {
      "provenance": []
    }
  }
}
